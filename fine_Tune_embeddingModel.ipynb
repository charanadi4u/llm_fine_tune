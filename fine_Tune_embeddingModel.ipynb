{
 "cells": [
  {
   "cell_type": "code",
   "execution_count": 6,
   "id": "b672ba20-8973-4253-bbc6-b5250178eee1",
   "metadata": {},
   "outputs": [],
   "source": [
    "import os\n",
    "import mlflow\n",
    "import warnings\n",
    "import pandas as pd\n",
    "import numpy as np\n",
    "import psycopg2 as pg\n",
    "from sqlalchemy import create_engine, text\n",
    "from sqlalchemy.exc import SQLAlchemyError\n",
    "from sentence_transformers import SentenceTransformer\n",
    "from langchain.document_loaders import DataFrameLoader\n",
    "from langchain.embeddings import HuggingFaceEmbeddings\n",
    "from langchain.vectorstores import Chroma\n",
    "warnings.filterwarnings(\"ignore\")"
   ]
  },
  {
   "cell_type": "code",
   "execution_count": 13,
   "id": "83e0d3e3-25ce-4d18-85d4-15eeff520a52",
   "metadata": {},
   "outputs": [
    {
     "data": {
      "text/html": [
       "<style type=\"text/css\">\n",
       "    table.dataframe td, table.dataframe th {\n",
       "        border-style: solid;\n",
       "    }\n",
       "</style>\n"
      ],
      "text/plain": [
       "<IPython.core.display.HTML object>"
      ]
     },
     "metadata": {},
     "output_type": "display_data"
    }
   ],
   "source": [
    "%%HTML\n",
    "<style type=\"text/css\">\n",
    "    table.dataframe td, table.dataframe th {\n",
    "        border-style: solid;\n",
    "    }\n",
    "</style>"
   ]
  },
  {
   "cell_type": "code",
   "execution_count": 7,
   "id": "41389d97-1fae-4074-8d89-9cc11b6739f2",
   "metadata": {},
   "outputs": [],
   "source": [
    "params_dict = {\n",
    "    'host': os.getenv('HOST_CDS'),\n",
    "    'port': os.getenv('PORT_CDS'),\n",
    "    'database': os.getenv('DATABASE_CDS'),\n",
    "    'username': os.getenv('USERNAME_CDS'),\n",
    "    'pwd': os.getenv('PWD_CDS')\n",
    "}"
   ]
  },
  {
   "cell_type": "code",
   "execution_count": 8,
   "id": "156bc2d3-345a-4775-8a4a-b7eb2626abce",
   "metadata": {},
   "outputs": [],
   "source": [
    "host = 'localhost'    #params_dict['host']\n",
    "port =  5432              #params_dict['port']\n",
    "database = 'sample_db'   #params_dict['database']\n",
    "username =  'postgres'            #params_dict['username']\n",
    "pwd =  'postgress'                  # params_dict['pwd']"
   ]
  },
  {
   "cell_type": "code",
   "execution_count": 10,
   "id": "0c96fa1b-fdc6-46b7-9556-152dc8a4d10f",
   "metadata": {},
   "outputs": [],
   "source": [
    "conn = pg.connect(user=username, password=pwd, host=host, port=port, database=database)"
   ]
  },
  {
   "cell_type": "code",
   "execution_count": 11,
   "id": "78c9ccf1-f647-4568-aa34-f1c6a1bbb787",
   "metadata": {},
   "outputs": [],
   "source": [
    "query_table_product = '''\n",
    "    select * from product;\n",
    "'''"
   ]
  },
  {
   "cell_type": "code",
   "execution_count": 12,
   "id": "f2f1cf86-c66c-4b35-83cf-1dde45844948",
   "metadata": {},
   "outputs": [
    {
     "data": {
      "text/html": [
       "<div>\n",
       "<style scoped>\n",
       "    .dataframe tbody tr th:only-of-type {\n",
       "        vertical-align: middle;\n",
       "    }\n",
       "\n",
       "    .dataframe tbody tr th {\n",
       "        vertical-align: top;\n",
       "    }\n",
       "\n",
       "    .dataframe thead th {\n",
       "        text-align: right;\n",
       "    }\n",
       "</style>\n",
       "<table border=\"1\" class=\"dataframe\">\n",
       "  <thead>\n",
       "    <tr style=\"text-align: right;\">\n",
       "      <th></th>\n",
       "      <th>product_id</th>\n",
       "      <th>product_name</th>\n",
       "      <th>product_class</th>\n",
       "      <th>category_hierarchy</th>\n",
       "      <th>product_description</th>\n",
       "      <th>product_features</th>\n",
       "      <th>rating_count</th>\n",
       "      <th>average_rating</th>\n",
       "      <th>review_count</th>\n",
       "    </tr>\n",
       "  </thead>\n",
       "  <tbody>\n",
       "    <tr>\n",
       "      <th>0</th>\n",
       "      <td>0</td>\n",
       "      <td>solid wood platform bed</td>\n",
       "      <td>Beds</td>\n",
       "      <td>Furniture / Bedroom Furniture / Beds &amp; Headboa...</td>\n",
       "      <td>good , deep sleep can be quite difficult to ha...</td>\n",
       "      <td>overallwidth-sidetoside:64.7|dsprimaryproducts...</td>\n",
       "      <td>15.0</td>\n",
       "      <td>4.5</td>\n",
       "      <td>15.0</td>\n",
       "    </tr>\n",
       "    <tr>\n",
       "      <th>1</th>\n",
       "      <td>1</td>\n",
       "      <td>all-clad 7 qt . slow cooker</td>\n",
       "      <td>Slow Cookers</td>\n",
       "      <td>Kitchen &amp; Tabletop / Small Kitchen Appliances ...</td>\n",
       "      <td>create delicious slow-cooked meals , from tend...</td>\n",
       "      <td>capacityquarts:7|producttype : slow cooker|pro...</td>\n",
       "      <td>100.0</td>\n",
       "      <td>2.0</td>\n",
       "      <td>98.0</td>\n",
       "    </tr>\n",
       "    <tr>\n",
       "      <th>2</th>\n",
       "      <td>2</td>\n",
       "      <td>all-clad electrics 6.5 qt . slow cooker</td>\n",
       "      <td>Slow Cookers</td>\n",
       "      <td>Kitchen &amp; Tabletop / Small Kitchen Appliances ...</td>\n",
       "      <td>prepare home-cooked meals on any schedule with...</td>\n",
       "      <td>features : keep warm setting|capacityquarts:6....</td>\n",
       "      <td>208.0</td>\n",
       "      <td>3.0</td>\n",
       "      <td>181.0</td>\n",
       "    </tr>\n",
       "    <tr>\n",
       "      <th>3</th>\n",
       "      <td>3</td>\n",
       "      <td>all-clad all professional tools pizza cutter</td>\n",
       "      <td>Slicers, Peelers And Graters</td>\n",
       "      <td>Browse By Brand / All-Clad</td>\n",
       "      <td>this original stainless tool was designed to c...</td>\n",
       "      <td>overallwidth-sidetoside:3.5|warrantylength : l...</td>\n",
       "      <td>69.0</td>\n",
       "      <td>4.5</td>\n",
       "      <td>42.0</td>\n",
       "    </tr>\n",
       "    <tr>\n",
       "      <th>4</th>\n",
       "      <td>4</td>\n",
       "      <td>baldwin prestige alcott passage knob with roun...</td>\n",
       "      <td>Door Knobs</td>\n",
       "      <td>Home Improvement / Doors &amp; Door Hardware / Doo...</td>\n",
       "      <td>the hardware has a rich heritage of delivering...</td>\n",
       "      <td>compatibledoorthickness:1.375 '' |countryofori...</td>\n",
       "      <td>70.0</td>\n",
       "      <td>5.0</td>\n",
       "      <td>42.0</td>\n",
       "    </tr>\n",
       "  </tbody>\n",
       "</table>\n",
       "</div>"
      ],
      "text/plain": [
       "   product_id                                       product_name  \\\n",
       "0           0                            solid wood platform bed   \n",
       "1           1                        all-clad 7 qt . slow cooker   \n",
       "2           2            all-clad electrics 6.5 qt . slow cooker   \n",
       "3           3       all-clad all professional tools pizza cutter   \n",
       "4           4  baldwin prestige alcott passage knob with roun...   \n",
       "\n",
       "                  product_class  \\\n",
       "0                          Beds   \n",
       "1                  Slow Cookers   \n",
       "2                  Slow Cookers   \n",
       "3  Slicers, Peelers And Graters   \n",
       "4                    Door Knobs   \n",
       "\n",
       "                                  category_hierarchy  \\\n",
       "0  Furniture / Bedroom Furniture / Beds & Headboa...   \n",
       "1  Kitchen & Tabletop / Small Kitchen Appliances ...   \n",
       "2  Kitchen & Tabletop / Small Kitchen Appliances ...   \n",
       "3                         Browse By Brand / All-Clad   \n",
       "4  Home Improvement / Doors & Door Hardware / Doo...   \n",
       "\n",
       "                                 product_description  \\\n",
       "0  good , deep sleep can be quite difficult to ha...   \n",
       "1  create delicious slow-cooked meals , from tend...   \n",
       "2  prepare home-cooked meals on any schedule with...   \n",
       "3  this original stainless tool was designed to c...   \n",
       "4  the hardware has a rich heritage of delivering...   \n",
       "\n",
       "                                    product_features  rating_count  \\\n",
       "0  overallwidth-sidetoside:64.7|dsprimaryproducts...          15.0   \n",
       "1  capacityquarts:7|producttype : slow cooker|pro...         100.0   \n",
       "2  features : keep warm setting|capacityquarts:6....         208.0   \n",
       "3  overallwidth-sidetoside:3.5|warrantylength : l...          69.0   \n",
       "4  compatibledoorthickness:1.375 '' |countryofori...          70.0   \n",
       "\n",
       "   average_rating  review_count  \n",
       "0             4.5          15.0  \n",
       "1             2.0          98.0  \n",
       "2             3.0         181.0  \n",
       "3             4.5          42.0  \n",
       "4             5.0          42.0  "
      ]
     },
     "execution_count": 12,
     "metadata": {},
     "output_type": "execute_result"
    }
   ],
   "source": [
    "df_product = pd.read_sql(query_table_product, conn)\n",
    "df_product.head()"
   ]
  },
  {
   "cell_type": "code",
   "execution_count": 14,
   "id": "7f01ee26-9420-4958-aefb-2ebe3d2d85a1",
   "metadata": {},
   "outputs": [
    {
     "data": {
      "text/html": [
       "<div>\n",
       "<style scoped>\n",
       "    .dataframe tbody tr th:only-of-type {\n",
       "        vertical-align: middle;\n",
       "    }\n",
       "\n",
       "    .dataframe tbody tr th {\n",
       "        vertical-align: top;\n",
       "    }\n",
       "\n",
       "    .dataframe thead th {\n",
       "        text-align: right;\n",
       "    }\n",
       "</style>\n",
       "<table border=\"1\" class=\"dataframe\">\n",
       "  <thead>\n",
       "    <tr style=\"text-align: right;\">\n",
       "      <th></th>\n",
       "      <th>product_id</th>\n",
       "      <th>product_name</th>\n",
       "      <th>product_class</th>\n",
       "      <th>category_hierarchy</th>\n",
       "      <th>product_description</th>\n",
       "      <th>product_features</th>\n",
       "      <th>rating_count</th>\n",
       "      <th>average_rating</th>\n",
       "      <th>review_count</th>\n",
       "    </tr>\n",
       "  </thead>\n",
       "  <tbody>\n",
       "    <tr>\n",
       "      <th>0</th>\n",
       "      <td>0</td>\n",
       "      <td>solid wood platform bed</td>\n",
       "      <td>Beds</td>\n",
       "      <td>Furniture / Bedroom Furniture / Beds &amp; Headboa...</td>\n",
       "      <td>good , deep sleep can be quite difficult to ha...</td>\n",
       "      <td>overallwidth-sidetoside:64.7|dsprimaryproducts...</td>\n",
       "      <td>15.0</td>\n",
       "      <td>4.5</td>\n",
       "      <td>15.0</td>\n",
       "    </tr>\n",
       "    <tr>\n",
       "      <th>1</th>\n",
       "      <td>1</td>\n",
       "      <td>all-clad 7 qt . slow cooker</td>\n",
       "      <td>Slow Cookers</td>\n",
       "      <td>Kitchen &amp; Tabletop / Small Kitchen Appliances ...</td>\n",
       "      <td>create delicious slow-cooked meals , from tend...</td>\n",
       "      <td>capacityquarts:7|producttype : slow cooker|pro...</td>\n",
       "      <td>100.0</td>\n",
       "      <td>2.0</td>\n",
       "      <td>98.0</td>\n",
       "    </tr>\n",
       "    <tr>\n",
       "      <th>2</th>\n",
       "      <td>2</td>\n",
       "      <td>all-clad electrics 6.5 qt . slow cooker</td>\n",
       "      <td>Slow Cookers</td>\n",
       "      <td>Kitchen &amp; Tabletop / Small Kitchen Appliances ...</td>\n",
       "      <td>prepare home-cooked meals on any schedule with...</td>\n",
       "      <td>features : keep warm setting|capacityquarts:6....</td>\n",
       "      <td>208.0</td>\n",
       "      <td>3.0</td>\n",
       "      <td>181.0</td>\n",
       "    </tr>\n",
       "    <tr>\n",
       "      <th>3</th>\n",
       "      <td>3</td>\n",
       "      <td>all-clad all professional tools pizza cutter</td>\n",
       "      <td>Slicers, Peelers And Graters</td>\n",
       "      <td>Browse By Brand / All-Clad</td>\n",
       "      <td>this original stainless tool was designed to c...</td>\n",
       "      <td>overallwidth-sidetoside:3.5|warrantylength : l...</td>\n",
       "      <td>69.0</td>\n",
       "      <td>4.5</td>\n",
       "      <td>42.0</td>\n",
       "    </tr>\n",
       "    <tr>\n",
       "      <th>4</th>\n",
       "      <td>4</td>\n",
       "      <td>baldwin prestige alcott passage knob with roun...</td>\n",
       "      <td>Door Knobs</td>\n",
       "      <td>Home Improvement / Doors &amp; Door Hardware / Doo...</td>\n",
       "      <td>the hardware has a rich heritage of delivering...</td>\n",
       "      <td>compatibledoorthickness:1.375 '' |countryofori...</td>\n",
       "      <td>70.0</td>\n",
       "      <td>5.0</td>\n",
       "      <td>42.0</td>\n",
       "    </tr>\n",
       "    <tr>\n",
       "      <th>...</th>\n",
       "      <td>...</td>\n",
       "      <td>...</td>\n",
       "      <td>...</td>\n",
       "      <td>...</td>\n",
       "      <td>...</td>\n",
       "      <td>...</td>\n",
       "      <td>...</td>\n",
       "      <td>...</td>\n",
       "      <td>...</td>\n",
       "    </tr>\n",
       "    <tr>\n",
       "      <th>42989</th>\n",
       "      <td>42989</td>\n",
       "      <td>malibu pressure balanced diverter fixed shower...</td>\n",
       "      <td>Shower Panels</td>\n",
       "      <td>Home Improvement / Bathroom Remodel &amp; Bathroom...</td>\n",
       "      <td>the malibu pressure balanced diverter fixed sh...</td>\n",
       "      <td>producttype : shower panel|spraypattern : rain...</td>\n",
       "      <td>3.0</td>\n",
       "      <td>4.5</td>\n",
       "      <td>2.0</td>\n",
       "    </tr>\n",
       "    <tr>\n",
       "      <th>42990</th>\n",
       "      <td>42990</td>\n",
       "      <td>emmeline 5 piece breakfast dining set</td>\n",
       "      <td>Dining Table Sets</td>\n",
       "      <td>Furniture / Kitchen &amp; Dining Furniture / Dinin...</td>\n",
       "      <td>NaN</td>\n",
       "      <td>basematerialdetails : steel| : gray wood|ofhar...</td>\n",
       "      <td>1314.0</td>\n",
       "      <td>4.5</td>\n",
       "      <td>864.0</td>\n",
       "    </tr>\n",
       "    <tr>\n",
       "      <th>42991</th>\n",
       "      <td>42991</td>\n",
       "      <td>maloney 3 piece pub table set</td>\n",
       "      <td>Dining Table Sets</td>\n",
       "      <td>Furniture / Kitchen &amp; Dining Furniture / Dinin...</td>\n",
       "      <td>this pub table set includes 1 counter height t...</td>\n",
       "      <td>additionaltoolsrequirednotincluded : power dri...</td>\n",
       "      <td>49.0</td>\n",
       "      <td>4.0</td>\n",
       "      <td>41.0</td>\n",
       "    </tr>\n",
       "    <tr>\n",
       "      <th>42992</th>\n",
       "      <td>42992</td>\n",
       "      <td>fletcher 27.5 '' wide polyester armchair</td>\n",
       "      <td>Teen Lounge Furniture|Accent Chairs</td>\n",
       "      <td>Furniture / Living Room Furniture / Chairs &amp; S...</td>\n",
       "      <td>bring iconic , modern style to your space in a...</td>\n",
       "      <td>legmaterialdetails : rubberwood|backheight-sea...</td>\n",
       "      <td>1746.0</td>\n",
       "      <td>4.5</td>\n",
       "      <td>1226.0</td>\n",
       "    </tr>\n",
       "    <tr>\n",
       "      <th>42993</th>\n",
       "      <td>42993</td>\n",
       "      <td>griffin 29 '' bar stool</td>\n",
       "      <td>Bar Stools</td>\n",
       "      <td>Furniture / Kitchen &amp; Dining Furniture / Bar F...</td>\n",
       "      <td>this set of two barstools features a minimalis...</td>\n",
       "      <td>distancebetweenfloorandfootrest:7.5|dssecondar...</td>\n",
       "      <td>20.0</td>\n",
       "      <td>4.5</td>\n",
       "      <td>20.0</td>\n",
       "    </tr>\n",
       "  </tbody>\n",
       "</table>\n",
       "<p>42994 rows × 9 columns</p>\n",
       "</div>"
      ],
      "text/plain": [
       "       product_id                                       product_name  \\\n",
       "0               0                            solid wood platform bed   \n",
       "1               1                        all-clad 7 qt . slow cooker   \n",
       "2               2            all-clad electrics 6.5 qt . slow cooker   \n",
       "3               3       all-clad all professional tools pizza cutter   \n",
       "4               4  baldwin prestige alcott passage knob with roun...   \n",
       "...           ...                                                ...   \n",
       "42989       42989  malibu pressure balanced diverter fixed shower...   \n",
       "42990       42990              emmeline 5 piece breakfast dining set   \n",
       "42991       42991                      maloney 3 piece pub table set   \n",
       "42992       42992           fletcher 27.5 '' wide polyester armchair   \n",
       "42993       42993                            griffin 29 '' bar stool   \n",
       "\n",
       "                             product_class  \\\n",
       "0                                     Beds   \n",
       "1                             Slow Cookers   \n",
       "2                             Slow Cookers   \n",
       "3             Slicers, Peelers And Graters   \n",
       "4                               Door Knobs   \n",
       "...                                    ...   \n",
       "42989                        Shower Panels   \n",
       "42990                    Dining Table Sets   \n",
       "42991                    Dining Table Sets   \n",
       "42992  Teen Lounge Furniture|Accent Chairs   \n",
       "42993                           Bar Stools   \n",
       "\n",
       "                                      category_hierarchy  \\\n",
       "0      Furniture / Bedroom Furniture / Beds & Headboa...   \n",
       "1      Kitchen & Tabletop / Small Kitchen Appliances ...   \n",
       "2      Kitchen & Tabletop / Small Kitchen Appliances ...   \n",
       "3                             Browse By Brand / All-Clad   \n",
       "4      Home Improvement / Doors & Door Hardware / Doo...   \n",
       "...                                                  ...   \n",
       "42989  Home Improvement / Bathroom Remodel & Bathroom...   \n",
       "42990  Furniture / Kitchen & Dining Furniture / Dinin...   \n",
       "42991  Furniture / Kitchen & Dining Furniture / Dinin...   \n",
       "42992  Furniture / Living Room Furniture / Chairs & S...   \n",
       "42993  Furniture / Kitchen & Dining Furniture / Bar F...   \n",
       "\n",
       "                                     product_description  \\\n",
       "0      good , deep sleep can be quite difficult to ha...   \n",
       "1      create delicious slow-cooked meals , from tend...   \n",
       "2      prepare home-cooked meals on any schedule with...   \n",
       "3      this original stainless tool was designed to c...   \n",
       "4      the hardware has a rich heritage of delivering...   \n",
       "...                                                  ...   \n",
       "42989  the malibu pressure balanced diverter fixed sh...   \n",
       "42990                                                NaN   \n",
       "42991  this pub table set includes 1 counter height t...   \n",
       "42992  bring iconic , modern style to your space in a...   \n",
       "42993  this set of two barstools features a minimalis...   \n",
       "\n",
       "                                        product_features  rating_count  \\\n",
       "0      overallwidth-sidetoside:64.7|dsprimaryproducts...          15.0   \n",
       "1      capacityquarts:7|producttype : slow cooker|pro...         100.0   \n",
       "2      features : keep warm setting|capacityquarts:6....         208.0   \n",
       "3      overallwidth-sidetoside:3.5|warrantylength : l...          69.0   \n",
       "4      compatibledoorthickness:1.375 '' |countryofori...          70.0   \n",
       "...                                                  ...           ...   \n",
       "42989  producttype : shower panel|spraypattern : rain...           3.0   \n",
       "42990  basematerialdetails : steel| : gray wood|ofhar...        1314.0   \n",
       "42991  additionaltoolsrequirednotincluded : power dri...          49.0   \n",
       "42992  legmaterialdetails : rubberwood|backheight-sea...        1746.0   \n",
       "42993  distancebetweenfloorandfootrest:7.5|dssecondar...          20.0   \n",
       "\n",
       "       average_rating  review_count  \n",
       "0                 4.5          15.0  \n",
       "1                 2.0          98.0  \n",
       "2                 3.0         181.0  \n",
       "3                 4.5          42.0  \n",
       "4                 5.0          42.0  \n",
       "...               ...           ...  \n",
       "42989             4.5           2.0  \n",
       "42990             4.5         864.0  \n",
       "42991             4.0          41.0  \n",
       "42992             4.5        1226.0  \n",
       "42993             4.5          20.0  \n",
       "\n",
       "[42994 rows x 9 columns]"
      ]
     },
     "execution_count": 14,
     "metadata": {},
     "output_type": "execute_result"
    }
   ],
   "source": [
    "df_product"
   ]
  },
  {
   "cell_type": "code",
   "execution_count": 17,
   "id": "e036003b-3a2f-4140-b5e0-bfab012fdbd6",
   "metadata": {},
   "outputs": [],
   "source": [
    "query_table_query = '''\n",
    "    select * from queries;\n",
    "'''"
   ]
  },
  {
   "cell_type": "code",
   "execution_count": 22,
   "id": "4f49a20e-63e5-4be5-8e78-a91e727923bd",
   "metadata": {},
   "outputs": [
    {
     "data": {
      "text/html": [
       "<div>\n",
       "<style scoped>\n",
       "    .dataframe tbody tr th:only-of-type {\n",
       "        vertical-align: middle;\n",
       "    }\n",
       "\n",
       "    .dataframe tbody tr th {\n",
       "        vertical-align: top;\n",
       "    }\n",
       "\n",
       "    .dataframe thead th {\n",
       "        text-align: right;\n",
       "    }\n",
       "</style>\n",
       "<table border=\"1\" class=\"dataframe\">\n",
       "  <thead>\n",
       "    <tr style=\"text-align: right;\">\n",
       "      <th></th>\n",
       "      <th>query_id</th>\n",
       "      <th>query</th>\n",
       "      <th>query_class</th>\n",
       "    </tr>\n",
       "  </thead>\n",
       "  <tbody>\n",
       "    <tr>\n",
       "      <th>0</th>\n",
       "      <td>0</td>\n",
       "      <td>salon chair</td>\n",
       "      <td>Massage Chairs</td>\n",
       "    </tr>\n",
       "    <tr>\n",
       "      <th>1</th>\n",
       "      <td>1</td>\n",
       "      <td>smart coffee table</td>\n",
       "      <td>Coffee &amp; Cocktail Tables</td>\n",
       "    </tr>\n",
       "    <tr>\n",
       "      <th>2</th>\n",
       "      <td>2</td>\n",
       "      <td>dinosaur</td>\n",
       "      <td>Kids Wall Décor</td>\n",
       "    </tr>\n",
       "    <tr>\n",
       "      <th>3</th>\n",
       "      <td>3</td>\n",
       "      <td>turquoise pillows</td>\n",
       "      <td>Accent Pillows</td>\n",
       "    </tr>\n",
       "    <tr>\n",
       "      <th>4</th>\n",
       "      <td>4</td>\n",
       "      <td>chair and a half recliner</td>\n",
       "      <td>Recliners</td>\n",
       "    </tr>\n",
       "  </tbody>\n",
       "</table>\n",
       "</div>"
      ],
      "text/plain": [
       "   query_id                      query               query_class\n",
       "0         0                salon chair            Massage Chairs\n",
       "1         1         smart coffee table  Coffee & Cocktail Tables\n",
       "2         2                   dinosaur           Kids Wall Décor\n",
       "3         3          turquoise pillows            Accent Pillows\n",
       "4         4  chair and a half recliner                 Recliners"
      ]
     },
     "execution_count": 22,
     "metadata": {},
     "output_type": "execute_result"
    }
   ],
   "source": [
    "df_query = pd.read_sql(query_table_query, conn)\n",
    "df_query.head()"
   ]
  },
  {
   "cell_type": "code",
   "execution_count": 20,
   "id": "454679e2-6e1c-49c2-8cfd-6865d729ad05",
   "metadata": {},
   "outputs": [],
   "source": [
    "query_table_labels = '''\n",
    "    select * from labels;\n",
    "'''"
   ]
  },
  {
   "cell_type": "code",
   "execution_count": 21,
   "id": "de5b6cb2-c2cd-4bf8-a98d-516edc56ac50",
   "metadata": {},
   "outputs": [
    {
     "data": {
      "text/html": [
       "<div>\n",
       "<style scoped>\n",
       "    .dataframe tbody tr th:only-of-type {\n",
       "        vertical-align: middle;\n",
       "    }\n",
       "\n",
       "    .dataframe tbody tr th {\n",
       "        vertical-align: top;\n",
       "    }\n",
       "\n",
       "    .dataframe thead th {\n",
       "        text-align: right;\n",
       "    }\n",
       "</style>\n",
       "<table border=\"1\" class=\"dataframe\">\n",
       "  <thead>\n",
       "    <tr style=\"text-align: right;\">\n",
       "      <th></th>\n",
       "      <th>id</th>\n",
       "      <th>query_id</th>\n",
       "      <th>product_id</th>\n",
       "      <th>label</th>\n",
       "      <th>label_score</th>\n",
       "    </tr>\n",
       "  </thead>\n",
       "  <tbody>\n",
       "    <tr>\n",
       "      <th>0</th>\n",
       "      <td>0</td>\n",
       "      <td>0</td>\n",
       "      <td>25434</td>\n",
       "      <td>Exact</td>\n",
       "      <td>1.00</td>\n",
       "    </tr>\n",
       "    <tr>\n",
       "      <th>1</th>\n",
       "      <td>1</td>\n",
       "      <td>0</td>\n",
       "      <td>12088</td>\n",
       "      <td>Irrelevant</td>\n",
       "      <td>0.00</td>\n",
       "    </tr>\n",
       "    <tr>\n",
       "      <th>2</th>\n",
       "      <td>2</td>\n",
       "      <td>0</td>\n",
       "      <td>42931</td>\n",
       "      <td>Exact</td>\n",
       "      <td>1.00</td>\n",
       "    </tr>\n",
       "    <tr>\n",
       "      <th>3</th>\n",
       "      <td>3</td>\n",
       "      <td>0</td>\n",
       "      <td>2636</td>\n",
       "      <td>Exact</td>\n",
       "      <td>1.00</td>\n",
       "    </tr>\n",
       "    <tr>\n",
       "      <th>4</th>\n",
       "      <td>4</td>\n",
       "      <td>0</td>\n",
       "      <td>42923</td>\n",
       "      <td>Exact</td>\n",
       "      <td>1.00</td>\n",
       "    </tr>\n",
       "    <tr>\n",
       "      <th>...</th>\n",
       "      <td>...</td>\n",
       "      <td>...</td>\n",
       "      <td>...</td>\n",
       "      <td>...</td>\n",
       "      <td>...</td>\n",
       "    </tr>\n",
       "    <tr>\n",
       "      <th>233443</th>\n",
       "      <td>234010</td>\n",
       "      <td>478</td>\n",
       "      <td>15439</td>\n",
       "      <td>Partial</td>\n",
       "      <td>0.75</td>\n",
       "    </tr>\n",
       "    <tr>\n",
       "      <th>233444</th>\n",
       "      <td>234011</td>\n",
       "      <td>478</td>\n",
       "      <td>451</td>\n",
       "      <td>Partial</td>\n",
       "      <td>0.75</td>\n",
       "    </tr>\n",
       "    <tr>\n",
       "      <th>233445</th>\n",
       "      <td>234012</td>\n",
       "      <td>478</td>\n",
       "      <td>30764</td>\n",
       "      <td>Irrelevant</td>\n",
       "      <td>0.00</td>\n",
       "    </tr>\n",
       "    <tr>\n",
       "      <th>233446</th>\n",
       "      <td>234013</td>\n",
       "      <td>478</td>\n",
       "      <td>16796</td>\n",
       "      <td>Partial</td>\n",
       "      <td>0.75</td>\n",
       "    </tr>\n",
       "    <tr>\n",
       "      <th>233447</th>\n",
       "      <td>234014</td>\n",
       "      <td>486</td>\n",
       "      <td>30764</td>\n",
       "      <td>Partial</td>\n",
       "      <td>0.75</td>\n",
       "    </tr>\n",
       "  </tbody>\n",
       "</table>\n",
       "<p>233448 rows × 5 columns</p>\n",
       "</div>"
      ],
      "text/plain": [
       "            id  query_id  product_id       label  label_score\n",
       "0            0         0       25434       Exact         1.00\n",
       "1            1         0       12088  Irrelevant         0.00\n",
       "2            2         0       42931       Exact         1.00\n",
       "3            3         0        2636       Exact         1.00\n",
       "4            4         0       42923       Exact         1.00\n",
       "...        ...       ...         ...         ...          ...\n",
       "233443  234010       478       15439     Partial         0.75\n",
       "233444  234011       478         451     Partial         0.75\n",
       "233445  234012       478       30764  Irrelevant         0.00\n",
       "233446  234013       478       16796     Partial         0.75\n",
       "233447  234014       486       30764     Partial         0.75\n",
       "\n",
       "[233448 rows x 5 columns]"
      ]
     },
     "execution_count": 21,
     "metadata": {},
     "output_type": "execute_result"
    }
   ],
   "source": [
    "df_labels = pd.read_sql(query_table_labels, conn)\n",
    "df_labels"
   ]
  },
  {
   "cell_type": "code",
   "execution_count": 26,
   "id": "5f190070-932a-483a-bbaa-a6e2ade715be",
   "metadata": {},
   "outputs": [
    {
     "name": "stdout",
     "output_type": "stream",
     "text": [
      "   product_id                                       product_name  \\\n",
      "0           0                            solid wood platform bed   \n",
      "1           1                        all-clad 7 qt . slow cooker   \n",
      "2           2            all-clad electrics 6.5 qt . slow cooker   \n",
      "3           3       all-clad all professional tools pizza cutter   \n",
      "4           4  baldwin prestige alcott passage knob with roun...   \n",
      "\n",
      "                                        product_text  \n",
      "0  good , deep sleep can be quite difficult to ha...  \n",
      "1  create delicious slow-cooked meals , from tend...  \n",
      "2  prepare home-cooked meals on any schedule with...  \n",
      "3  this original stainless tool was designed to c...  \n",
      "4  the hardware has a rich heritage of delivering...  \n"
     ]
    }
   ],
   "source": [
    "query_table_product = '''\n",
    "SELECT \n",
    "    product_id,\n",
    "    product_name,\n",
    "    COALESCE(product_description, product_name) AS product_text\n",
    "FROM \n",
    "    product;\n",
    "'''\n",
    "\n",
    "# Read the query result into a pandas DataFrame\n",
    "product_text_pd  = pd.read_sql(query_table_product, conn)\n",
    "\n",
    "# Display the first few rows of the DataFrame\n",
    "print(df_product_text.head())"
   ]
  },
  {
   "cell_type": "code",
   "execution_count": 27,
   "id": "b186e50a-c8cd-4b1d-9f98-2f32eaa21222",
   "metadata": {},
   "outputs": [
    {
     "data": {
      "text/html": [
       "<div>\n",
       "<style scoped>\n",
       "    .dataframe tbody tr th:only-of-type {\n",
       "        vertical-align: middle;\n",
       "    }\n",
       "\n",
       "    .dataframe tbody tr th {\n",
       "        vertical-align: top;\n",
       "    }\n",
       "\n",
       "    .dataframe thead th {\n",
       "        text-align: right;\n",
       "    }\n",
       "</style>\n",
       "<table border=\"1\" class=\"dataframe\">\n",
       "  <thead>\n",
       "    <tr style=\"text-align: right;\">\n",
       "      <th></th>\n",
       "      <th>product_id</th>\n",
       "      <th>product_name</th>\n",
       "      <th>product_text</th>\n",
       "    </tr>\n",
       "  </thead>\n",
       "  <tbody>\n",
       "    <tr>\n",
       "      <th>0</th>\n",
       "      <td>0</td>\n",
       "      <td>solid wood platform bed</td>\n",
       "      <td>good , deep sleep can be quite difficult to ha...</td>\n",
       "    </tr>\n",
       "    <tr>\n",
       "      <th>1</th>\n",
       "      <td>1</td>\n",
       "      <td>all-clad 7 qt . slow cooker</td>\n",
       "      <td>create delicious slow-cooked meals , from tend...</td>\n",
       "    </tr>\n",
       "    <tr>\n",
       "      <th>2</th>\n",
       "      <td>2</td>\n",
       "      <td>all-clad electrics 6.5 qt . slow cooker</td>\n",
       "      <td>prepare home-cooked meals on any schedule with...</td>\n",
       "    </tr>\n",
       "    <tr>\n",
       "      <th>3</th>\n",
       "      <td>3</td>\n",
       "      <td>all-clad all professional tools pizza cutter</td>\n",
       "      <td>this original stainless tool was designed to c...</td>\n",
       "    </tr>\n",
       "    <tr>\n",
       "      <th>4</th>\n",
       "      <td>4</td>\n",
       "      <td>baldwin prestige alcott passage knob with roun...</td>\n",
       "      <td>the hardware has a rich heritage of delivering...</td>\n",
       "    </tr>\n",
       "    <tr>\n",
       "      <th>...</th>\n",
       "      <td>...</td>\n",
       "      <td>...</td>\n",
       "      <td>...</td>\n",
       "    </tr>\n",
       "    <tr>\n",
       "      <th>42989</th>\n",
       "      <td>42989</td>\n",
       "      <td>malibu pressure balanced diverter fixed shower...</td>\n",
       "      <td>the malibu pressure balanced diverter fixed sh...</td>\n",
       "    </tr>\n",
       "    <tr>\n",
       "      <th>42990</th>\n",
       "      <td>42990</td>\n",
       "      <td>emmeline 5 piece breakfast dining set</td>\n",
       "      <td>NaN</td>\n",
       "    </tr>\n",
       "    <tr>\n",
       "      <th>42991</th>\n",
       "      <td>42991</td>\n",
       "      <td>maloney 3 piece pub table set</td>\n",
       "      <td>this pub table set includes 1 counter height t...</td>\n",
       "    </tr>\n",
       "    <tr>\n",
       "      <th>42992</th>\n",
       "      <td>42992</td>\n",
       "      <td>fletcher 27.5 '' wide polyester armchair</td>\n",
       "      <td>bring iconic , modern style to your space in a...</td>\n",
       "    </tr>\n",
       "    <tr>\n",
       "      <th>42993</th>\n",
       "      <td>42993</td>\n",
       "      <td>griffin 29 '' bar stool</td>\n",
       "      <td>this set of two barstools features a minimalis...</td>\n",
       "    </tr>\n",
       "  </tbody>\n",
       "</table>\n",
       "<p>42994 rows × 3 columns</p>\n",
       "</div>"
      ],
      "text/plain": [
       "       product_id                                       product_name  \\\n",
       "0               0                            solid wood platform bed   \n",
       "1               1                        all-clad 7 qt . slow cooker   \n",
       "2               2            all-clad electrics 6.5 qt . slow cooker   \n",
       "3               3       all-clad all professional tools pizza cutter   \n",
       "4               4  baldwin prestige alcott passage knob with roun...   \n",
       "...           ...                                                ...   \n",
       "42989       42989  malibu pressure balanced diverter fixed shower...   \n",
       "42990       42990              emmeline 5 piece breakfast dining set   \n",
       "42991       42991                      maloney 3 piece pub table set   \n",
       "42992       42992           fletcher 27.5 '' wide polyester armchair   \n",
       "42993       42993                            griffin 29 '' bar stool   \n",
       "\n",
       "                                            product_text  \n",
       "0      good , deep sleep can be quite difficult to ha...  \n",
       "1      create delicious slow-cooked meals , from tend...  \n",
       "2      prepare home-cooked meals on any schedule with...  \n",
       "3      this original stainless tool was designed to c...  \n",
       "4      the hardware has a rich heritage of delivering...  \n",
       "...                                                  ...  \n",
       "42989  the malibu pressure balanced diverter fixed sh...  \n",
       "42990                                                NaN  \n",
       "42991  this pub table set includes 1 counter height t...  \n",
       "42992  bring iconic , modern style to your space in a...  \n",
       "42993  this set of two barstools features a minimalis...  \n",
       "\n",
       "[42994 rows x 3 columns]"
      ]
     },
     "execution_count": 27,
     "metadata": {},
     "output_type": "execute_result"
    }
   ],
   "source": [
    "product_text_pd"
   ]
  },
  {
   "cell_type": "code",
   "execution_count": 28,
   "id": "2267ec2a-ebe6-4729-af21-d721e69feec7",
   "metadata": {},
   "outputs": [
    {
     "data": {
      "application/vnd.jupyter.widget-view+json": {
       "model_id": "95badaacc10c459f9cc482ae1b6f750a",
       "version_major": 2,
       "version_minor": 0
      },
      "text/plain": [
       "modules.json:   0%|          | 0.00/349 [00:00<?, ?B/s]"
      ]
     },
     "metadata": {},
     "output_type": "display_data"
    },
    {
     "data": {
      "application/vnd.jupyter.widget-view+json": {
       "model_id": "2c27aa4f630d4ca3a02a64248e7b5398",
       "version_major": 2,
       "version_minor": 0
      },
      "text/plain": [
       "config_sentence_transformers.json:   0%|          | 0.00/116 [00:00<?, ?B/s]"
      ]
     },
     "metadata": {},
     "output_type": "display_data"
    },
    {
     "data": {
      "application/vnd.jupyter.widget-view+json": {
       "model_id": "4b30200d5eef4006856d9c4321442712",
       "version_major": 2,
       "version_minor": 0
      },
      "text/plain": [
       "README.md:   0%|          | 0.00/10.7k [00:00<?, ?B/s]"
      ]
     },
     "metadata": {},
     "output_type": "display_data"
    },
    {
     "data": {
      "application/vnd.jupyter.widget-view+json": {
       "model_id": "32ec67cbd7ad4ff8841c326155f3ea15",
       "version_major": 2,
       "version_minor": 0
      },
      "text/plain": [
       "sentence_bert_config.json:   0%|          | 0.00/53.0 [00:00<?, ?B/s]"
      ]
     },
     "metadata": {},
     "output_type": "display_data"
    },
    {
     "data": {
      "application/vnd.jupyter.widget-view+json": {
       "model_id": "e0fb36174e394cdeb145a9ef7e873215",
       "version_major": 2,
       "version_minor": 0
      },
      "text/plain": [
       "config.json:   0%|          | 0.00/615 [00:00<?, ?B/s]"
      ]
     },
     "metadata": {},
     "output_type": "display_data"
    },
    {
     "data": {
      "application/vnd.jupyter.widget-view+json": {
       "model_id": "980ca04e7fe942d88eb07c9d62b7e1dd",
       "version_major": 2,
       "version_minor": 0
      },
      "text/plain": [
       "model.safetensors:   0%|          | 0.00/133M [00:00<?, ?B/s]"
      ]
     },
     "metadata": {},
     "output_type": "display_data"
    },
    {
     "data": {
      "application/vnd.jupyter.widget-view+json": {
       "model_id": "73d33f4b09ca4c16834b80a2c5541a14",
       "version_major": 2,
       "version_minor": 0
      },
      "text/plain": [
       "tokenizer_config.json:   0%|          | 0.00/352 [00:00<?, ?B/s]"
      ]
     },
     "metadata": {},
     "output_type": "display_data"
    },
    {
     "data": {
      "application/vnd.jupyter.widget-view+json": {
       "model_id": "62613719381d47e8a40fde7611ee271f",
       "version_major": 2,
       "version_minor": 0
      },
      "text/plain": [
       "vocab.txt:   0%|          | 0.00/232k [00:00<?, ?B/s]"
      ]
     },
     "metadata": {},
     "output_type": "display_data"
    },
    {
     "data": {
      "application/vnd.jupyter.widget-view+json": {
       "model_id": "650e9d1363e54448ab8316e6b9f43e64",
       "version_major": 2,
       "version_minor": 0
      },
      "text/plain": [
       "tokenizer.json:   0%|          | 0.00/466k [00:00<?, ?B/s]"
      ]
     },
     "metadata": {},
     "output_type": "display_data"
    },
    {
     "data": {
      "application/vnd.jupyter.widget-view+json": {
       "model_id": "66102eb322fc4e12b4b544972db8de36",
       "version_major": 2,
       "version_minor": 0
      },
      "text/plain": [
       "special_tokens_map.json:   0%|          | 0.00/112 [00:00<?, ?B/s]"
      ]
     },
     "metadata": {},
     "output_type": "display_data"
    },
    {
     "data": {
      "application/vnd.jupyter.widget-view+json": {
       "model_id": "00fd6fd808ff494f915aae1566f2b659",
       "version_major": 2,
       "version_minor": 0
      },
      "text/plain": [
       "1_Pooling/config.json:   0%|          | 0.00/190 [00:00<?, ?B/s]"
      ]
     },
     "metadata": {},
     "output_type": "display_data"
    }
   ],
   "source": [
    "original_model = SentenceTransformer('all-MiniLM-L12-v2')"
   ]
  },
  {
   "cell_type": "code",
   "execution_count": 30,
   "id": "a52b4ccc-ed2d-47c3-ace5-f6f5d7cc5519",
   "metadata": {},
   "outputs": [],
   "source": [
    "embedding_model = HuggingFaceEmbeddings(model_name='all-MiniLM-L12-v2')"
   ]
  },
  {
   "cell_type": "code",
   "execution_count": 31,
   "id": "2c305865-61f1-4de3-baaa-36ccc6f33741",
   "metadata": {},
   "outputs": [],
   "source": [
    "documents = (\n",
    "  DataFrameLoader(\n",
    "    product_text_pd,\n",
    "    page_content_column='product_text'\n",
    "    )\n",
    "    .load()\n",
    "  )"
   ]
  },
  {
   "cell_type": "code",
   "execution_count": 32,
   "id": "ac5dfeb3-9b8d-49fb-b214-16928b499a8e",
   "metadata": {},
   "outputs": [],
   "source": [
    "vectordb = Chroma.from_documents(\n",
    "  documents=documents, \n",
    "  embedding=embedding_model\n",
    "  )\n",
    " \n",
    "# persist vector db to storage\n",
    "vectordb.persist()"
   ]
  },
  {
   "cell_type": "code",
   "execution_count": 33,
   "id": "79aa7922-96d9-4931-bff5-165e0dcea56e",
   "metadata": {},
   "outputs": [
    {
     "data": {
      "text/plain": [
       "42994"
      ]
     },
     "execution_count": 33,
     "metadata": {},
     "output_type": "execute_result"
    }
   ],
   "source": [
    "vectordb._collection.count()"
   ]
  },
  {
   "cell_type": "code",
   "execution_count": 34,
   "id": "0ec2134c-7416-40a6-8438-9c34d81ac38d",
   "metadata": {},
   "outputs": [
    {
     "name": "stdout",
     "output_type": "stream",
     "text": [
      "Metadatas:   [{'product_id': 9499, 'product_name': 'real touch magnolia , berry & cypress mixed floral arrangement in glass vase'}]\n",
      "Documents:   ['we are taking forever flowers to the next level with our new line of real touch flower arrangements in luxury glassware . our red real touch magnolia , berry & cypress christmas arrangement in glass cylinder vase is the perfect statement piece for your kitchen , dining room , office , or any space that needs a little life ! these arrangements also makes for an exquisite gift that can be enjoyed for years to come . our artificial water is precisely formulated to simulate the look of clean , fresh water . it remains clear after hardening to hold each arrangement in place .']\n",
      "ids:         ['000217d9-ccd3-4dc6-8fb3-0d9d76c4646c']\n",
      "embeddings:  [[-0.051275234669446945, -0.00912544596940279, 0.07982894778251648, 0.0279383547604084, 0.013285013847053051, -0.06080647185444832, -0.0215378999710083, -0.03740846365690231, -0.01724035106599331, 0.01764041930437088, 0.04188508167862892, 0.12200210243463516, -0.0647154152393341, 0.041165124624967575, 0.015807630494236946, 0.0076477862894535065, 0.07039904594421387, 0.024916475638747215, 0.012052929028868675, 0.086050845682621, 0.04278308153152466, -0.01981430873274803, -0.05084993317723274, -0.12462515383958817, 0.02801823988556862, 0.06850692629814148, -0.037809159606695175, -0.10247667133808136, 0.015927184373140335, -0.01240386813879013, 0.025660773739218712, 0.15978549420833588, -0.09735248237848282, 0.021539999172091484, 0.004398353863507509, -0.061998944729566574, -0.03722359612584114, -0.018248988315463066, 0.05512315779924393, -0.04880834370851517, 0.001835481496527791, -0.0011456983629614115, 0.02780584990978241, 0.036910634487867355, 0.03362631797790527, -0.033203672617673874, 0.04431811720132828, 0.017377512529492378, 0.015616627410054207, 0.05046531558036804, -0.06883655488491058, 0.014183469116687775, 0.022072941064834595, 0.005834129173308611, -0.0209236741065979, 0.018586400896310806, 0.0006301383837126195, 0.0005494318320415914, 0.006890916731208563, 0.04501988738775253, 0.04551461338996887, -0.015488382428884506, 0.009688344784080982, 0.005851383320987225, -0.1412508189678192, -0.026434356346726418, -0.006456210743635893, 0.06564782559871674, 0.07971734553575516, -0.04437827318906784, 0.014713261276483536, 0.00022795036784373224, 0.012200006283819675, -0.04478514939546585, 0.03453662246465683, 0.006163034122437239, -0.02709931693971157, -0.015675434842705727, -0.030382994562387466, 0.06351161003112793, -0.04675837978720665, -0.0777442529797554, 0.06839783489704132, 0.008513296023011208, -0.010328719392418861, 0.024398593232035637, 0.08976035565137863, -0.0020370841957628727, -0.06181933358311653, -0.03679457679390907, 0.030374759808182716, -0.023856544867157936, -0.0949496254324913, -0.03167077153921127, -0.08332516998052597, 0.09783604741096497, 0.031790103763341904, -0.02929176576435566, -0.09127062559127808, 0.043821223080158234, 0.0009619538905099034, 0.07519668340682983, -0.017058437690138817, -0.011262480169534683, 0.005077673587948084, -0.06355919688940048, -0.11826682090759277, 0.06733908504247665, -0.06645021587610245, 0.03849134221673012, 0.009402711875736713, -0.05315905064344406, -0.04837585240602493, 0.07668449729681015, -0.16852733492851257, -0.06833779811859131, -0.031333524733781815, 0.049906495958566666, 0.047034893184900284, -0.03285980597138405, 0.08228764683008194, 0.09345979988574982, 0.03905615583062172, -0.07663244009017944, -0.0529605969786644, -0.07199988514184952, -0.01817960850894451, 0.06600552052259445, -0.011033928953111172, 0.06924304366111755, 0.11752823740243912, 0.030995136126875877, 0.052439022809267044, -0.015641599893569946, -0.013950534164905548, 0.03374610096216202, 0.025665439665317535, 0.003098459914326668, 0.06744559109210968, -0.000276347273029387, -0.10240337997674942, -0.013047046028077602, 0.043064676225185394, -0.03149332478642464, -0.04548322781920433, -0.007248864974826574, 0.05293688178062439, -0.014030920341610909, -0.05937172845005989, 0.06563431024551392, 0.004907518159598112, -0.0021727774292230606, -0.004152427427470684, 0.04698533937335014, 0.020702026784420013, 0.016545237973332405, -0.0065368907526135445, 0.0357285812497139, 0.04168897122144699, 0.04434540122747421, 0.009408589452505112, 0.03387876972556114, -0.04899133741855621, 0.013254163786768913, -0.04933882877230644, -0.08939475566148758, 0.062111176550388336, -0.06131621077656746, -0.06808987259864807, -0.007321083452552557, -0.001330139464698732, 0.06735344231128693, -0.023458603769540787, 0.04524657130241394, -0.05932338535785675, 0.05861002579331398, 0.06106886640191078, -0.05761987715959549, 0.01742015779018402, 0.062981978058815, 0.01023397222161293, 0.09279690682888031, -0.014877617359161377, 0.0036733122542500496, -0.014123409055173397, 0.04852600768208504, 0.06270544230937958, -0.04905152693390846, 0.09241782128810883, 0.0017525923904031515, -0.08594927936792374, -0.03753918781876564, 0.08708041161298752, 0.001341301598586142, -0.046022679656744, 0.04694417119026184, 0.04222746193408966, 0.06420079618692398, -0.042838651686906815, -0.024090200662612915, -0.02748795598745346, -0.02377483993768692, 0.03685011342167854, -0.0628170594573021, 0.1251983344554901, 0.06385795772075653, 0.08164162933826447, 0.022902358323335648, -0.046672895550727844, 0.0624760277569294, -0.007983092218637466, -0.03668211027979851, -0.011742301285266876, -0.056013353168964386, 0.02051621302962303, 0.08149316161870956, -0.0659998431801796, -0.0671212449669838, 0.07653922587633133, -0.013946112245321274, 0.03793551027774811, -0.08492207527160645, -0.0574907511472702, 1.0273063167014482e-32, -0.011591631919145584, -0.03594392165541649, 0.008771300315856934, -0.0053922440856695175, 0.013887135311961174, -0.02454490028321743, -0.03900603950023651, -0.028198424726724625, 0.05302013084292412, -0.019473789259791374, 0.03418948873877525, 0.08954039961099625, 0.029403086751699448, 0.03437281772494316, -0.05345091596245766, 0.014106590300798416, 0.03235190361738205, 0.020305240526795387, 0.04756278172135353, -0.009418899193406105, 0.010761666111648083, 0.04912139102816582, -0.0005679979221895337, 0.023281069472432137, -0.07492390275001526, -0.03879512846469879, 0.06516812741756439, -0.11423932015895844, -0.04095417261123657, 0.015498821623623371, -0.03013320453464985, -0.04987722635269165, -0.0821777805685997, -0.011194533668458462, 0.046484921127557755, -0.10135979950428009, 0.024205617606639862, 0.009274202398955822, 0.015894412994384766, -0.0253358855843544, 0.008895664475858212, -0.09034791588783264, -0.015318021178245544, 0.11196574568748474, -0.006320747081190348, 0.039294809103012085, -0.011502395384013653, 0.03704862669110298, 0.018351994454860687, 0.010020853020250797, -0.0788586363196373, -0.08784011751413345, -0.022600697353482246, -0.05908125638961792, 0.08081243187189102, -0.009288685396313667, -0.06404402107000351, -0.09602923691272736, 0.049892622977495193, 0.056104447692632675, 0.0011564143933355808, 0.02008453570306301, -0.03068392165005207, 0.010974716395139694, 0.041642170399427414, -0.051674213260412216, 0.017138758674263954, -0.007913445122539997, 0.00900520384311676, -0.039087291806936264, -0.009436443448066711, 0.045394375920295715, -0.05952690914273262, 0.006535217631608248, 0.06422354280948639, -0.05375948175787926, 0.06711801141500473, -0.05950270965695381, -0.07667748630046844, -0.015758579596877098, 0.037689756602048874, 0.0972231924533844, 0.03742007911205292, 0.04116324707865715, 0.03715763986110687, -0.06572764366865158, 0.011842643842101097, 0.02082899585366249, -0.08190499991178513, -0.03480009734630585, 0.05626993626356125, -0.013134751468896866, 0.044942211359739304, -0.01205907016992569, 0.07024507224559784, 7.324381285319662e-32, 0.02554185688495636, -0.0025544906966388226, 0.020727582275867462, -0.05914613604545593, -0.03099353238940239, -0.03331539407372475, 0.00940397847443819, 0.025757545605301857, -0.043780189007520676, -0.03548819571733475, -0.054509371519088745, -0.04183297976851463, 0.044462285935878754, -0.03532833606004715, -0.044457122683525085, 0.08725809305906296, 0.06930588185787201, -0.03669063001871109, -0.11087869852781296, -0.05004337057471275, 0.015209732577204704, 0.04057079181075096, 0.07815869152545929, -0.06008023023605347, -0.030958442017436028, 0.022425571456551552, -0.025927286595106125, -0.07777941972017288, 0.02359255962073803, 0.001163563458248973, 0.03715983033180237, -0.039034515619277954, -0.04830260947346687, 0.04786273092031479, -0.09199777990579605, 0.0027126879431307316, -0.0299936942756176, 0.003082203445956111, -0.028780510649085045, -0.05493949353694916, 0.006865940988063812, -0.03930269181728363, -0.02945958822965622, 0.023318856954574585, -0.03357423469424248, -0.022963251918554306, 0.04088125377893448, -0.015966514125466347, -0.018032217398285866, 0.011750809848308563, -0.0173800066113472, 0.05434678494930267, -0.0030591434333473444, -0.11052320897579193, 0.08316075801849365, -0.016297301277518272, 0.039201393723487854, 0.09079835563898087, -0.03299969807267189, -0.03683875873684883, -0.0011068732710555196, 0.0609317347407341, -0.0276815053075552, 0.06639165431261063]]\n"
     ]
    }
   ],
   "source": [
    "rec= vectordb._collection.peek(1)\n",
    " \n",
    "print('Metadatas:  ', rec['metadatas'])\n",
    "print('Documents:  ', rec['documents'])\n",
    "print('ids:        ', rec['ids'])\n",
    "print('embeddings: ', rec['embeddings'])"
   ]
  },
  {
   "cell_type": "code",
   "execution_count": 35,
   "id": "18136b5b-f89b-43b1-95b6-33b999c268fa",
   "metadata": {},
   "outputs": [
    {
     "data": {
      "text/plain": [
       "[(Document(page_content='this modern and convenient rug combines contemporary colors , an elegant medallion pattern , a wood floor safe backing , and durable construction . the kid and pet safe materials are easy to spot clean , making these rugs ideal for a busy family .', metadata={'product_id': 41813, 'product_name': 'nile tarifa bohemian medallion gray area rug'}),\n",
       "  0.5344257354736328),\n",
       " (Document(page_content='this modern and convenient rug combines contemporary colors , an elegant medallion pattern , a wood floor safe backing , and durable construction . the kid and pet safe materials are easy to spot clean , making these rugs ideal for a busy family .', metadata={'product_id': 41814, 'product_name': 'nile tarifa bohemian medallion rust area rug'}),\n",
       "  0.5344257354736328),\n",
       " (Document(page_content='this modern and convenient rug combines contemporary colors , an elegant medallion pattern , a wood floor safe backing , and durable construction . the kid and pet safe materials are easy to spot clean , making these rugs ideal for a busy family .', metadata={'product_id': 41812, 'product_name': 'nile tarifa bohemian medallion beige area rug'}),\n",
       "  0.5344257354736328),\n",
       " (Document(page_content='this modern and convenient rug combines contemporary colors , an elegant medallion pattern , a wood floor safe backing , and durable construction . the kid and pet safe materials easy to spot clean , making these rugs ideal for a busy family .', metadata={'product_id': 41810, 'product_name': 'nile tarifa bohemian medallion red area rug'}),\n",
       "  0.5580034852027893)]"
      ]
     },
     "execution_count": 35,
     "metadata": {},
     "output_type": "execute_result"
    }
   ],
   "source": [
    "vectordb.similarity_search_with_score(\"kid-proof rug\")"
   ]
  },
  {
   "cell_type": "code",
   "execution_count": 41,
   "id": "1a2148da-f985-4a90-8f69-27142297622d",
   "metadata": {},
   "outputs": [],
   "source": [
    "from sentence_transformers import SentenceTransformer, util, InputExample, losses, evaluation\n",
    "import torch\n",
    "from torch.utils.data import DataLoader\n",
    "from langchain.document_loaders import DataFrameLoader\n",
    "from langchain.embeddings import HuggingFaceEmbeddings\n",
    "from langchain.vectorstores import Chroma\n",
    "import numpy as np\n",
    "import pandas as pd\n",
    "import mlflow"
   ]
  },
  {
   "cell_type": "code",
   "execution_count": 43,
   "id": "dfc37d88-066d-445a-a72a-64cce4b27d27",
   "metadata": {},
   "outputs": [
    {
     "name": "stdout",
     "output_type": "stream",
     "text": [
      "         query                                       product_text  score\n",
      "0  salon chair  add a beautiful accent to any room with this m...    0.0\n",
      "1  salon chair  the heavy duty barber chair is built to last ....    1.0\n",
      "2  salon chair  welcome your corporate visitors with this thre...    0.0\n",
      "3  salon chair  stylish fits perfectly for office , bank , hal...    0.0\n",
      "4  salon chair                                                NaN    0.0\n"
     ]
    }
   ],
   "source": [
    "query = '''\n",
    "SELECT \n",
    "    q.query,\n",
    "    COALESCE(p.product_description, p.product_name) AS product_text,\n",
    "    l.label_score AS score\n",
    "FROM \n",
    "    product p\n",
    "JOIN \n",
    "    labels l ON p.product_id = l.product_id\n",
    "JOIN \n",
    "    queries q ON l.query_id = q.query_id;\n",
    "'''\n",
    "\n",
    "# Read the query result into a pandas DataFrame\n",
    "search_pd = pd.read_sql(query, conn)\n",
    "\n",
    "# Display the first few rows of the DataFrame\n",
    "print(search_pd.head())"
   ]
  },
  {
   "cell_type": "code",
   "execution_count": 44,
   "id": "9a9bbaca-6aa8-486d-b241-58ba7470eea8",
   "metadata": {},
   "outputs": [
    {
     "data": {
      "text/html": [
       "<div>\n",
       "<style scoped>\n",
       "    .dataframe tbody tr th:only-of-type {\n",
       "        vertical-align: middle;\n",
       "    }\n",
       "\n",
       "    .dataframe tbody tr th {\n",
       "        vertical-align: top;\n",
       "    }\n",
       "\n",
       "    .dataframe thead th {\n",
       "        text-align: right;\n",
       "    }\n",
       "</style>\n",
       "<table border=\"1\" class=\"dataframe\">\n",
       "  <thead>\n",
       "    <tr style=\"text-align: right;\">\n",
       "      <th></th>\n",
       "      <th>query</th>\n",
       "      <th>product_text</th>\n",
       "      <th>score</th>\n",
       "    </tr>\n",
       "  </thead>\n",
       "  <tbody>\n",
       "    <tr>\n",
       "      <th>0</th>\n",
       "      <td>salon chair</td>\n",
       "      <td>add a beautiful accent to any room with this m...</td>\n",
       "      <td>0.0</td>\n",
       "    </tr>\n",
       "    <tr>\n",
       "      <th>1</th>\n",
       "      <td>salon chair</td>\n",
       "      <td>the heavy duty barber chair is built to last ....</td>\n",
       "      <td>1.0</td>\n",
       "    </tr>\n",
       "    <tr>\n",
       "      <th>2</th>\n",
       "      <td>salon chair</td>\n",
       "      <td>welcome your corporate visitors with this thre...</td>\n",
       "      <td>0.0</td>\n",
       "    </tr>\n",
       "    <tr>\n",
       "      <th>3</th>\n",
       "      <td>salon chair</td>\n",
       "      <td>stylish fits perfectly for office , bank , hal...</td>\n",
       "      <td>0.0</td>\n",
       "    </tr>\n",
       "    <tr>\n",
       "      <th>4</th>\n",
       "      <td>salon chair</td>\n",
       "      <td>NaN</td>\n",
       "      <td>0.0</td>\n",
       "    </tr>\n",
       "  </tbody>\n",
       "</table>\n",
       "</div>"
      ],
      "text/plain": [
       "         query                                       product_text  score\n",
       "0  salon chair  add a beautiful accent to any room with this m...    0.0\n",
       "1  salon chair  the heavy duty barber chair is built to last ....    1.0\n",
       "2  salon chair  welcome your corporate visitors with this thre...    0.0\n",
       "3  salon chair  stylish fits perfectly for office , bank , hal...    0.0\n",
       "4  salon chair                                                NaN    0.0"
      ]
     },
     "execution_count": 44,
     "metadata": {},
     "output_type": "execute_result"
    }
   ],
   "source": [
    "search_pd.head()"
   ]
  },
  {
   "cell_type": "code",
   "execution_count": 45,
   "id": "cb6f4cd1-a896-4c67-87a6-ed4d163f0a91",
   "metadata": {},
   "outputs": [],
   "source": [
    "original_model = SentenceTransformer('all-MiniLM-L12-v2')"
   ]
  },
  {
   "cell_type": "code",
   "execution_count": 46,
   "id": "53969b0e-4fa8-4161-a2d2-dc9e3c599106",
   "metadata": {},
   "outputs": [],
   "source": [
    "query_embeddings = (\n",
    "  original_model\n",
    "    .encode(\n",
    "      search_pd['query'].tolist()\n",
    "      )\n",
    "  )"
   ]
  },
  {
   "cell_type": "code",
   "execution_count": 47,
   "id": "34eb62df-e831-4dec-b1d3-0d7e354157ed",
   "metadata": {},
   "outputs": [],
   "source": [
    "product_embeddings = (\n",
    "  original_model\n",
    "    .encode(\n",
    "      search_pd['product_text'].tolist()\n",
    "      )\n",
    "  )"
   ]
  },
  {
   "cell_type": "code",
   "execution_count": 50,
   "id": "2470d950-a3da-45ef-8e5c-a4b567fa4cbb",
   "metadata": {},
   "outputs": [],
   "source": [
    "# determine cosine similarity for each query-product pair\n",
    "original_cos_sim_scores = (\n",
    "  util.pairwise_cos_sim(\n",
    "    query_embeddings, \n",
    "    product_embeddings\n",
    "    )\n",
    "  )"
   ]
  },
  {
   "cell_type": "code",
   "execution_count": 51,
   "id": "af4d6fa1-803c-4455-b744-1ccb913e1d86",
   "metadata": {},
   "outputs": [
    {
     "name": "stdout",
     "output_type": "stream",
     "text": [
      "0.37226954102516174\n"
     ]
    }
   ],
   "source": [
    "# average the cosine similarity scores\n",
    "original_cos_sim_score = torch.mean(original_cos_sim_scores).item()\n",
    " \n",
    "# display result\n",
    "print(original_cos_sim_score)"
   ]
  },
  {
   "cell_type": "code",
   "execution_count": 52,
   "id": "acd370b1-98de-49f5-943b-af931b537ef7",
   "metadata": {},
   "outputs": [
    {
     "name": "stdout",
     "output_type": "stream",
     "text": [
      "0.3192255803956717\n"
     ]
    }
   ],
   "source": [
    "# determine correlation between cosine similarities and relevancy scores\n",
    "original_corr_coef_score = (\n",
    "  np.corrcoef(\n",
    "    original_cos_sim_scores,\n",
    "    search_pd['score'].values\n",
    "  )[0][1]\n",
    ") \n",
    "# print results\n",
    "print(original_corr_coef_score)"
   ]
  },
  {
   "cell_type": "markdown",
   "id": "c2891d50-3463-417d-8c09-c56579f8ad9b",
   "metadata": {},
   "source": [
    "Step 2: Fine-Tune the Model"
   ]
  },
  {
   "cell_type": "markdown",
   "id": "0a0c61d6-0ec9-484c-9c5f-5e33be34d3ec",
   "metadata": {},
   "source": [
    "Restructure Data for Model Input"
   ]
  },
  {
   "cell_type": "code",
   "execution_count": 53,
   "id": "42b4a06f-0755-4c95-a3f9-bc712dc16868",
   "metadata": {},
   "outputs": [],
   "source": [
    "# define function to assemble an input\n",
    "def create_input(doc1, doc2, score):\n",
    "  return InputExample(texts=[doc1, doc2], label=score)\n",
    " \n",
    "# convert each search result into an input\n",
    "inputs = search_pd.apply(\n",
    "  lambda s: create_input(s['query'], s['product_text'], s['score']), axis=1\n",
    "  ).to_list()"
   ]
  },
  {
   "cell_type": "code",
   "execution_count": 54,
   "id": "a369505c-1821-4ead-a6b0-15ecf1241921",
   "metadata": {},
   "outputs": [],
   "source": [
    "tuned_model = SentenceTransformer('all-MiniLM-L12-v2')"
   ]
  },
  {
   "cell_type": "markdown",
   "id": "7b47460d-8cda-4bcb-8b47-615634076cb6",
   "metadata": {},
   "source": [
    "Tune the Model"
   ]
  },
  {
   "cell_type": "code",
   "execution_count": 55,
   "id": "0991f9e5-bd8a-46d9-aecf-ca11802671ed",
   "metadata": {},
   "outputs": [
    {
     "data": {
      "application/vnd.jupyter.widget-view+json": {
       "model_id": "3da5bc07ee874953b0adedea793195dc",
       "version_major": 2,
       "version_minor": 0
      },
      "text/plain": [
       "Epoch:   0%|          | 0/1 [00:00<?, ?it/s]"
      ]
     },
     "metadata": {},
     "output_type": "display_data"
    },
    {
     "data": {
      "application/vnd.jupyter.widget-view+json": {
       "model_id": "3b0ca6f3068b4f85ad263f6bd17e2f96",
       "version_major": 2,
       "version_minor": 0
      },
      "text/plain": [
       "Iteration:   0%|          | 0/14591 [00:00<?, ?it/s]"
      ]
     },
     "metadata": {},
     "output_type": "display_data"
    },
    {
     "ename": "KeyboardInterrupt",
     "evalue": "",
     "output_type": "error",
     "traceback": [
      "\u001b[1;31m---------------------------------------------------------------------------\u001b[0m",
      "\u001b[1;31mKeyboardInterrupt\u001b[0m                         Traceback (most recent call last)",
      "Cell \u001b[1;32mIn[55], line 8\u001b[0m\n\u001b[0;32m      5\u001b[0m loss \u001b[38;5;241m=\u001b[39m losses\u001b[38;5;241m.\u001b[39mCosineSimilarityLoss(tuned_model)\n\u001b[0;32m      7\u001b[0m \u001b[38;5;66;03m# tune the model on the input data\u001b[39;00m\n\u001b[1;32m----> 8\u001b[0m tuned_model\u001b[38;5;241m.\u001b[39mfit(\n\u001b[0;32m      9\u001b[0m   train_objectives\u001b[38;5;241m=\u001b[39m[(input_dataloader, loss)],\n\u001b[0;32m     10\u001b[0m   epochs\u001b[38;5;241m=\u001b[39m\u001b[38;5;241m1\u001b[39m, \u001b[38;5;66;03m# just make 1 pass over data\u001b[39;00m\n\u001b[0;32m     11\u001b[0m   warmup_steps\u001b[38;5;241m=\u001b[39m\u001b[38;5;241m100\u001b[39m \u001b[38;5;66;03m# controls how many steps over which learning rate increases to max before descending back to zero\u001b[39;00m\n\u001b[0;32m     12\u001b[0m   )\n",
      "File \u001b[1;32mG:\\Anaconda3\\Lib\\site-packages\\sentence_transformers\\SentenceTransformer.py:1098\u001b[0m, in \u001b[0;36mSentenceTransformer.fit\u001b[1;34m(self, train_objectives, evaluator, epochs, steps_per_epoch, scheduler, warmup_steps, optimizer_class, optimizer_params, weight_decay, evaluation_steps, output_path, save_best_model, max_grad_norm, use_amp, callback, show_progress_bar, checkpoint_path, checkpoint_save_steps, checkpoint_save_total_limit)\u001b[0m\n\u001b[0;32m   1096\u001b[0m     skip_scheduler \u001b[38;5;241m=\u001b[39m scaler\u001b[38;5;241m.\u001b[39mget_scale() \u001b[38;5;241m!=\u001b[39m scale_before_step\n\u001b[0;32m   1097\u001b[0m \u001b[38;5;28;01melse\u001b[39;00m:\n\u001b[1;32m-> 1098\u001b[0m     loss_value \u001b[38;5;241m=\u001b[39m loss_model(features, labels)\n\u001b[0;32m   1099\u001b[0m     loss_value\u001b[38;5;241m.\u001b[39mbackward()\n\u001b[0;32m   1100\u001b[0m     torch\u001b[38;5;241m.\u001b[39mnn\u001b[38;5;241m.\u001b[39mutils\u001b[38;5;241m.\u001b[39mclip_grad_norm_(loss_model\u001b[38;5;241m.\u001b[39mparameters(), max_grad_norm)\n",
      "File \u001b[1;32mG:\\Anaconda3\\Lib\\site-packages\\torch\\nn\\modules\\module.py:1532\u001b[0m, in \u001b[0;36mModule._wrapped_call_impl\u001b[1;34m(self, *args, **kwargs)\u001b[0m\n\u001b[0;32m   1530\u001b[0m     \u001b[38;5;28;01mreturn\u001b[39;00m \u001b[38;5;28mself\u001b[39m\u001b[38;5;241m.\u001b[39m_compiled_call_impl(\u001b[38;5;241m*\u001b[39margs, \u001b[38;5;241m*\u001b[39m\u001b[38;5;241m*\u001b[39mkwargs)  \u001b[38;5;66;03m# type: ignore[misc]\u001b[39;00m\n\u001b[0;32m   1531\u001b[0m \u001b[38;5;28;01melse\u001b[39;00m:\n\u001b[1;32m-> 1532\u001b[0m     \u001b[38;5;28;01mreturn\u001b[39;00m \u001b[38;5;28mself\u001b[39m\u001b[38;5;241m.\u001b[39m_call_impl(\u001b[38;5;241m*\u001b[39margs, \u001b[38;5;241m*\u001b[39m\u001b[38;5;241m*\u001b[39mkwargs)\n",
      "File \u001b[1;32mG:\\Anaconda3\\Lib\\site-packages\\torch\\nn\\modules\\module.py:1541\u001b[0m, in \u001b[0;36mModule._call_impl\u001b[1;34m(self, *args, **kwargs)\u001b[0m\n\u001b[0;32m   1536\u001b[0m \u001b[38;5;66;03m# If we don't have any hooks, we want to skip the rest of the logic in\u001b[39;00m\n\u001b[0;32m   1537\u001b[0m \u001b[38;5;66;03m# this function, and just call forward.\u001b[39;00m\n\u001b[0;32m   1538\u001b[0m \u001b[38;5;28;01mif\u001b[39;00m \u001b[38;5;129;01mnot\u001b[39;00m (\u001b[38;5;28mself\u001b[39m\u001b[38;5;241m.\u001b[39m_backward_hooks \u001b[38;5;129;01mor\u001b[39;00m \u001b[38;5;28mself\u001b[39m\u001b[38;5;241m.\u001b[39m_backward_pre_hooks \u001b[38;5;129;01mor\u001b[39;00m \u001b[38;5;28mself\u001b[39m\u001b[38;5;241m.\u001b[39m_forward_hooks \u001b[38;5;129;01mor\u001b[39;00m \u001b[38;5;28mself\u001b[39m\u001b[38;5;241m.\u001b[39m_forward_pre_hooks\n\u001b[0;32m   1539\u001b[0m         \u001b[38;5;129;01mor\u001b[39;00m _global_backward_pre_hooks \u001b[38;5;129;01mor\u001b[39;00m _global_backward_hooks\n\u001b[0;32m   1540\u001b[0m         \u001b[38;5;129;01mor\u001b[39;00m _global_forward_hooks \u001b[38;5;129;01mor\u001b[39;00m _global_forward_pre_hooks):\n\u001b[1;32m-> 1541\u001b[0m     \u001b[38;5;28;01mreturn\u001b[39;00m forward_call(\u001b[38;5;241m*\u001b[39margs, \u001b[38;5;241m*\u001b[39m\u001b[38;5;241m*\u001b[39mkwargs)\n\u001b[0;32m   1543\u001b[0m \u001b[38;5;28;01mtry\u001b[39;00m:\n\u001b[0;32m   1544\u001b[0m     result \u001b[38;5;241m=\u001b[39m \u001b[38;5;28;01mNone\u001b[39;00m\n",
      "File \u001b[1;32mG:\\Anaconda3\\Lib\\site-packages\\sentence_transformers\\losses\\CosineSimilarityLoss.py:63\u001b[0m, in \u001b[0;36mCosineSimilarityLoss.forward\u001b[1;34m(self, sentence_features, labels)\u001b[0m\n\u001b[0;32m     62\u001b[0m \u001b[38;5;28;01mdef\u001b[39;00m \u001b[38;5;21mforward\u001b[39m(\u001b[38;5;28mself\u001b[39m, sentence_features: Iterable[Dict[\u001b[38;5;28mstr\u001b[39m, Tensor]], labels: Tensor):\n\u001b[1;32m---> 63\u001b[0m     embeddings \u001b[38;5;241m=\u001b[39m [\u001b[38;5;28mself\u001b[39m\u001b[38;5;241m.\u001b[39mmodel(sentence_feature)[\u001b[38;5;124m\"\u001b[39m\u001b[38;5;124msentence_embedding\u001b[39m\u001b[38;5;124m\"\u001b[39m] \u001b[38;5;28;01mfor\u001b[39;00m sentence_feature \u001b[38;5;129;01min\u001b[39;00m sentence_features]\n\u001b[0;32m     64\u001b[0m     output \u001b[38;5;241m=\u001b[39m \u001b[38;5;28mself\u001b[39m\u001b[38;5;241m.\u001b[39mcos_score_transformation(torch\u001b[38;5;241m.\u001b[39mcosine_similarity(embeddings[\u001b[38;5;241m0\u001b[39m], embeddings[\u001b[38;5;241m1\u001b[39m]))\n\u001b[0;32m     65\u001b[0m     \u001b[38;5;28;01mreturn\u001b[39;00m \u001b[38;5;28mself\u001b[39m\u001b[38;5;241m.\u001b[39mloss_fct(output, labels\u001b[38;5;241m.\u001b[39mview(\u001b[38;5;241m-\u001b[39m\u001b[38;5;241m1\u001b[39m))\n",
      "File \u001b[1;32mG:\\Anaconda3\\Lib\\site-packages\\sentence_transformers\\losses\\CosineSimilarityLoss.py:63\u001b[0m, in \u001b[0;36m<listcomp>\u001b[1;34m(.0)\u001b[0m\n\u001b[0;32m     62\u001b[0m \u001b[38;5;28;01mdef\u001b[39;00m \u001b[38;5;21mforward\u001b[39m(\u001b[38;5;28mself\u001b[39m, sentence_features: Iterable[Dict[\u001b[38;5;28mstr\u001b[39m, Tensor]], labels: Tensor):\n\u001b[1;32m---> 63\u001b[0m     embeddings \u001b[38;5;241m=\u001b[39m [\u001b[38;5;28mself\u001b[39m\u001b[38;5;241m.\u001b[39mmodel(sentence_feature)[\u001b[38;5;124m\"\u001b[39m\u001b[38;5;124msentence_embedding\u001b[39m\u001b[38;5;124m\"\u001b[39m] \u001b[38;5;28;01mfor\u001b[39;00m sentence_feature \u001b[38;5;129;01min\u001b[39;00m sentence_features]\n\u001b[0;32m     64\u001b[0m     output \u001b[38;5;241m=\u001b[39m \u001b[38;5;28mself\u001b[39m\u001b[38;5;241m.\u001b[39mcos_score_transformation(torch\u001b[38;5;241m.\u001b[39mcosine_similarity(embeddings[\u001b[38;5;241m0\u001b[39m], embeddings[\u001b[38;5;241m1\u001b[39m]))\n\u001b[0;32m     65\u001b[0m     \u001b[38;5;28;01mreturn\u001b[39;00m \u001b[38;5;28mself\u001b[39m\u001b[38;5;241m.\u001b[39mloss_fct(output, labels\u001b[38;5;241m.\u001b[39mview(\u001b[38;5;241m-\u001b[39m\u001b[38;5;241m1\u001b[39m))\n",
      "File \u001b[1;32mG:\\Anaconda3\\Lib\\site-packages\\torch\\nn\\modules\\module.py:1532\u001b[0m, in \u001b[0;36mModule._wrapped_call_impl\u001b[1;34m(self, *args, **kwargs)\u001b[0m\n\u001b[0;32m   1530\u001b[0m     \u001b[38;5;28;01mreturn\u001b[39;00m \u001b[38;5;28mself\u001b[39m\u001b[38;5;241m.\u001b[39m_compiled_call_impl(\u001b[38;5;241m*\u001b[39margs, \u001b[38;5;241m*\u001b[39m\u001b[38;5;241m*\u001b[39mkwargs)  \u001b[38;5;66;03m# type: ignore[misc]\u001b[39;00m\n\u001b[0;32m   1531\u001b[0m \u001b[38;5;28;01melse\u001b[39;00m:\n\u001b[1;32m-> 1532\u001b[0m     \u001b[38;5;28;01mreturn\u001b[39;00m \u001b[38;5;28mself\u001b[39m\u001b[38;5;241m.\u001b[39m_call_impl(\u001b[38;5;241m*\u001b[39margs, \u001b[38;5;241m*\u001b[39m\u001b[38;5;241m*\u001b[39mkwargs)\n",
      "File \u001b[1;32mG:\\Anaconda3\\Lib\\site-packages\\torch\\nn\\modules\\module.py:1541\u001b[0m, in \u001b[0;36mModule._call_impl\u001b[1;34m(self, *args, **kwargs)\u001b[0m\n\u001b[0;32m   1536\u001b[0m \u001b[38;5;66;03m# If we don't have any hooks, we want to skip the rest of the logic in\u001b[39;00m\n\u001b[0;32m   1537\u001b[0m \u001b[38;5;66;03m# this function, and just call forward.\u001b[39;00m\n\u001b[0;32m   1538\u001b[0m \u001b[38;5;28;01mif\u001b[39;00m \u001b[38;5;129;01mnot\u001b[39;00m (\u001b[38;5;28mself\u001b[39m\u001b[38;5;241m.\u001b[39m_backward_hooks \u001b[38;5;129;01mor\u001b[39;00m \u001b[38;5;28mself\u001b[39m\u001b[38;5;241m.\u001b[39m_backward_pre_hooks \u001b[38;5;129;01mor\u001b[39;00m \u001b[38;5;28mself\u001b[39m\u001b[38;5;241m.\u001b[39m_forward_hooks \u001b[38;5;129;01mor\u001b[39;00m \u001b[38;5;28mself\u001b[39m\u001b[38;5;241m.\u001b[39m_forward_pre_hooks\n\u001b[0;32m   1539\u001b[0m         \u001b[38;5;129;01mor\u001b[39;00m _global_backward_pre_hooks \u001b[38;5;129;01mor\u001b[39;00m _global_backward_hooks\n\u001b[0;32m   1540\u001b[0m         \u001b[38;5;129;01mor\u001b[39;00m _global_forward_hooks \u001b[38;5;129;01mor\u001b[39;00m _global_forward_pre_hooks):\n\u001b[1;32m-> 1541\u001b[0m     \u001b[38;5;28;01mreturn\u001b[39;00m forward_call(\u001b[38;5;241m*\u001b[39margs, \u001b[38;5;241m*\u001b[39m\u001b[38;5;241m*\u001b[39mkwargs)\n\u001b[0;32m   1543\u001b[0m \u001b[38;5;28;01mtry\u001b[39;00m:\n\u001b[0;32m   1544\u001b[0m     result \u001b[38;5;241m=\u001b[39m \u001b[38;5;28;01mNone\u001b[39;00m\n",
      "File \u001b[1;32mG:\\Anaconda3\\Lib\\site-packages\\torch\\nn\\modules\\container.py:217\u001b[0m, in \u001b[0;36mSequential.forward\u001b[1;34m(self, input)\u001b[0m\n\u001b[0;32m    215\u001b[0m \u001b[38;5;28;01mdef\u001b[39;00m \u001b[38;5;21mforward\u001b[39m(\u001b[38;5;28mself\u001b[39m, \u001b[38;5;28minput\u001b[39m):\n\u001b[0;32m    216\u001b[0m     \u001b[38;5;28;01mfor\u001b[39;00m module \u001b[38;5;129;01min\u001b[39;00m \u001b[38;5;28mself\u001b[39m:\n\u001b[1;32m--> 217\u001b[0m         \u001b[38;5;28minput\u001b[39m \u001b[38;5;241m=\u001b[39m module(\u001b[38;5;28minput\u001b[39m)\n\u001b[0;32m    218\u001b[0m     \u001b[38;5;28;01mreturn\u001b[39;00m \u001b[38;5;28minput\u001b[39m\n",
      "File \u001b[1;32mG:\\Anaconda3\\Lib\\site-packages\\torch\\nn\\modules\\module.py:1532\u001b[0m, in \u001b[0;36mModule._wrapped_call_impl\u001b[1;34m(self, *args, **kwargs)\u001b[0m\n\u001b[0;32m   1530\u001b[0m     \u001b[38;5;28;01mreturn\u001b[39;00m \u001b[38;5;28mself\u001b[39m\u001b[38;5;241m.\u001b[39m_compiled_call_impl(\u001b[38;5;241m*\u001b[39margs, \u001b[38;5;241m*\u001b[39m\u001b[38;5;241m*\u001b[39mkwargs)  \u001b[38;5;66;03m# type: ignore[misc]\u001b[39;00m\n\u001b[0;32m   1531\u001b[0m \u001b[38;5;28;01melse\u001b[39;00m:\n\u001b[1;32m-> 1532\u001b[0m     \u001b[38;5;28;01mreturn\u001b[39;00m \u001b[38;5;28mself\u001b[39m\u001b[38;5;241m.\u001b[39m_call_impl(\u001b[38;5;241m*\u001b[39margs, \u001b[38;5;241m*\u001b[39m\u001b[38;5;241m*\u001b[39mkwargs)\n",
      "File \u001b[1;32mG:\\Anaconda3\\Lib\\site-packages\\torch\\nn\\modules\\module.py:1541\u001b[0m, in \u001b[0;36mModule._call_impl\u001b[1;34m(self, *args, **kwargs)\u001b[0m\n\u001b[0;32m   1536\u001b[0m \u001b[38;5;66;03m# If we don't have any hooks, we want to skip the rest of the logic in\u001b[39;00m\n\u001b[0;32m   1537\u001b[0m \u001b[38;5;66;03m# this function, and just call forward.\u001b[39;00m\n\u001b[0;32m   1538\u001b[0m \u001b[38;5;28;01mif\u001b[39;00m \u001b[38;5;129;01mnot\u001b[39;00m (\u001b[38;5;28mself\u001b[39m\u001b[38;5;241m.\u001b[39m_backward_hooks \u001b[38;5;129;01mor\u001b[39;00m \u001b[38;5;28mself\u001b[39m\u001b[38;5;241m.\u001b[39m_backward_pre_hooks \u001b[38;5;129;01mor\u001b[39;00m \u001b[38;5;28mself\u001b[39m\u001b[38;5;241m.\u001b[39m_forward_hooks \u001b[38;5;129;01mor\u001b[39;00m \u001b[38;5;28mself\u001b[39m\u001b[38;5;241m.\u001b[39m_forward_pre_hooks\n\u001b[0;32m   1539\u001b[0m         \u001b[38;5;129;01mor\u001b[39;00m _global_backward_pre_hooks \u001b[38;5;129;01mor\u001b[39;00m _global_backward_hooks\n\u001b[0;32m   1540\u001b[0m         \u001b[38;5;129;01mor\u001b[39;00m _global_forward_hooks \u001b[38;5;129;01mor\u001b[39;00m _global_forward_pre_hooks):\n\u001b[1;32m-> 1541\u001b[0m     \u001b[38;5;28;01mreturn\u001b[39;00m forward_call(\u001b[38;5;241m*\u001b[39margs, \u001b[38;5;241m*\u001b[39m\u001b[38;5;241m*\u001b[39mkwargs)\n\u001b[0;32m   1543\u001b[0m \u001b[38;5;28;01mtry\u001b[39;00m:\n\u001b[0;32m   1544\u001b[0m     result \u001b[38;5;241m=\u001b[39m \u001b[38;5;28;01mNone\u001b[39;00m\n",
      "File \u001b[1;32mG:\\Anaconda3\\Lib\\site-packages\\sentence_transformers\\models\\Transformer.py:98\u001b[0m, in \u001b[0;36mTransformer.forward\u001b[1;34m(self, features)\u001b[0m\n\u001b[0;32m     95\u001b[0m \u001b[38;5;28;01mif\u001b[39;00m \u001b[38;5;124m\"\u001b[39m\u001b[38;5;124mtoken_type_ids\u001b[39m\u001b[38;5;124m\"\u001b[39m \u001b[38;5;129;01min\u001b[39;00m features:\n\u001b[0;32m     96\u001b[0m     trans_features[\u001b[38;5;124m\"\u001b[39m\u001b[38;5;124mtoken_type_ids\u001b[39m\u001b[38;5;124m\"\u001b[39m] \u001b[38;5;241m=\u001b[39m features[\u001b[38;5;124m\"\u001b[39m\u001b[38;5;124mtoken_type_ids\u001b[39m\u001b[38;5;124m\"\u001b[39m]\n\u001b[1;32m---> 98\u001b[0m output_states \u001b[38;5;241m=\u001b[39m \u001b[38;5;28mself\u001b[39m\u001b[38;5;241m.\u001b[39mauto_model(\u001b[38;5;241m*\u001b[39m\u001b[38;5;241m*\u001b[39mtrans_features, return_dict\u001b[38;5;241m=\u001b[39m\u001b[38;5;28;01mFalse\u001b[39;00m)\n\u001b[0;32m     99\u001b[0m output_tokens \u001b[38;5;241m=\u001b[39m output_states[\u001b[38;5;241m0\u001b[39m]\n\u001b[0;32m    101\u001b[0m features\u001b[38;5;241m.\u001b[39mupdate({\u001b[38;5;124m\"\u001b[39m\u001b[38;5;124mtoken_embeddings\u001b[39m\u001b[38;5;124m\"\u001b[39m: output_tokens, \u001b[38;5;124m\"\u001b[39m\u001b[38;5;124mattention_mask\u001b[39m\u001b[38;5;124m\"\u001b[39m: features[\u001b[38;5;124m\"\u001b[39m\u001b[38;5;124mattention_mask\u001b[39m\u001b[38;5;124m\"\u001b[39m]})\n",
      "File \u001b[1;32mG:\\Anaconda3\\Lib\\site-packages\\torch\\nn\\modules\\module.py:1532\u001b[0m, in \u001b[0;36mModule._wrapped_call_impl\u001b[1;34m(self, *args, **kwargs)\u001b[0m\n\u001b[0;32m   1530\u001b[0m     \u001b[38;5;28;01mreturn\u001b[39;00m \u001b[38;5;28mself\u001b[39m\u001b[38;5;241m.\u001b[39m_compiled_call_impl(\u001b[38;5;241m*\u001b[39margs, \u001b[38;5;241m*\u001b[39m\u001b[38;5;241m*\u001b[39mkwargs)  \u001b[38;5;66;03m# type: ignore[misc]\u001b[39;00m\n\u001b[0;32m   1531\u001b[0m \u001b[38;5;28;01melse\u001b[39;00m:\n\u001b[1;32m-> 1532\u001b[0m     \u001b[38;5;28;01mreturn\u001b[39;00m \u001b[38;5;28mself\u001b[39m\u001b[38;5;241m.\u001b[39m_call_impl(\u001b[38;5;241m*\u001b[39margs, \u001b[38;5;241m*\u001b[39m\u001b[38;5;241m*\u001b[39mkwargs)\n",
      "File \u001b[1;32mG:\\Anaconda3\\Lib\\site-packages\\torch\\nn\\modules\\module.py:1541\u001b[0m, in \u001b[0;36mModule._call_impl\u001b[1;34m(self, *args, **kwargs)\u001b[0m\n\u001b[0;32m   1536\u001b[0m \u001b[38;5;66;03m# If we don't have any hooks, we want to skip the rest of the logic in\u001b[39;00m\n\u001b[0;32m   1537\u001b[0m \u001b[38;5;66;03m# this function, and just call forward.\u001b[39;00m\n\u001b[0;32m   1538\u001b[0m \u001b[38;5;28;01mif\u001b[39;00m \u001b[38;5;129;01mnot\u001b[39;00m (\u001b[38;5;28mself\u001b[39m\u001b[38;5;241m.\u001b[39m_backward_hooks \u001b[38;5;129;01mor\u001b[39;00m \u001b[38;5;28mself\u001b[39m\u001b[38;5;241m.\u001b[39m_backward_pre_hooks \u001b[38;5;129;01mor\u001b[39;00m \u001b[38;5;28mself\u001b[39m\u001b[38;5;241m.\u001b[39m_forward_hooks \u001b[38;5;129;01mor\u001b[39;00m \u001b[38;5;28mself\u001b[39m\u001b[38;5;241m.\u001b[39m_forward_pre_hooks\n\u001b[0;32m   1539\u001b[0m         \u001b[38;5;129;01mor\u001b[39;00m _global_backward_pre_hooks \u001b[38;5;129;01mor\u001b[39;00m _global_backward_hooks\n\u001b[0;32m   1540\u001b[0m         \u001b[38;5;129;01mor\u001b[39;00m _global_forward_hooks \u001b[38;5;129;01mor\u001b[39;00m _global_forward_pre_hooks):\n\u001b[1;32m-> 1541\u001b[0m     \u001b[38;5;28;01mreturn\u001b[39;00m forward_call(\u001b[38;5;241m*\u001b[39margs, \u001b[38;5;241m*\u001b[39m\u001b[38;5;241m*\u001b[39mkwargs)\n\u001b[0;32m   1543\u001b[0m \u001b[38;5;28;01mtry\u001b[39;00m:\n\u001b[0;32m   1544\u001b[0m     result \u001b[38;5;241m=\u001b[39m \u001b[38;5;28;01mNone\u001b[39;00m\n",
      "File \u001b[1;32mG:\\Anaconda3\\Lib\\site-packages\\transformers\\models\\bert\\modeling_bert.py:1013\u001b[0m, in \u001b[0;36mBertModel.forward\u001b[1;34m(self, input_ids, attention_mask, token_type_ids, position_ids, head_mask, inputs_embeds, encoder_hidden_states, encoder_attention_mask, past_key_values, use_cache, output_attentions, output_hidden_states, return_dict)\u001b[0m\n\u001b[0;32m   1004\u001b[0m head_mask \u001b[38;5;241m=\u001b[39m \u001b[38;5;28mself\u001b[39m\u001b[38;5;241m.\u001b[39mget_head_mask(head_mask, \u001b[38;5;28mself\u001b[39m\u001b[38;5;241m.\u001b[39mconfig\u001b[38;5;241m.\u001b[39mnum_hidden_layers)\n\u001b[0;32m   1006\u001b[0m embedding_output \u001b[38;5;241m=\u001b[39m \u001b[38;5;28mself\u001b[39m\u001b[38;5;241m.\u001b[39membeddings(\n\u001b[0;32m   1007\u001b[0m     input_ids\u001b[38;5;241m=\u001b[39minput_ids,\n\u001b[0;32m   1008\u001b[0m     position_ids\u001b[38;5;241m=\u001b[39mposition_ids,\n\u001b[1;32m   (...)\u001b[0m\n\u001b[0;32m   1011\u001b[0m     past_key_values_length\u001b[38;5;241m=\u001b[39mpast_key_values_length,\n\u001b[0;32m   1012\u001b[0m )\n\u001b[1;32m-> 1013\u001b[0m encoder_outputs \u001b[38;5;241m=\u001b[39m \u001b[38;5;28mself\u001b[39m\u001b[38;5;241m.\u001b[39mencoder(\n\u001b[0;32m   1014\u001b[0m     embedding_output,\n\u001b[0;32m   1015\u001b[0m     attention_mask\u001b[38;5;241m=\u001b[39mextended_attention_mask,\n\u001b[0;32m   1016\u001b[0m     head_mask\u001b[38;5;241m=\u001b[39mhead_mask,\n\u001b[0;32m   1017\u001b[0m     encoder_hidden_states\u001b[38;5;241m=\u001b[39mencoder_hidden_states,\n\u001b[0;32m   1018\u001b[0m     encoder_attention_mask\u001b[38;5;241m=\u001b[39mencoder_extended_attention_mask,\n\u001b[0;32m   1019\u001b[0m     past_key_values\u001b[38;5;241m=\u001b[39mpast_key_values,\n\u001b[0;32m   1020\u001b[0m     use_cache\u001b[38;5;241m=\u001b[39muse_cache,\n\u001b[0;32m   1021\u001b[0m     output_attentions\u001b[38;5;241m=\u001b[39moutput_attentions,\n\u001b[0;32m   1022\u001b[0m     output_hidden_states\u001b[38;5;241m=\u001b[39moutput_hidden_states,\n\u001b[0;32m   1023\u001b[0m     return_dict\u001b[38;5;241m=\u001b[39mreturn_dict,\n\u001b[0;32m   1024\u001b[0m )\n\u001b[0;32m   1025\u001b[0m sequence_output \u001b[38;5;241m=\u001b[39m encoder_outputs[\u001b[38;5;241m0\u001b[39m]\n\u001b[0;32m   1026\u001b[0m pooled_output \u001b[38;5;241m=\u001b[39m \u001b[38;5;28mself\u001b[39m\u001b[38;5;241m.\u001b[39mpooler(sequence_output) \u001b[38;5;28;01mif\u001b[39;00m \u001b[38;5;28mself\u001b[39m\u001b[38;5;241m.\u001b[39mpooler \u001b[38;5;129;01mis\u001b[39;00m \u001b[38;5;129;01mnot\u001b[39;00m \u001b[38;5;28;01mNone\u001b[39;00m \u001b[38;5;28;01melse\u001b[39;00m \u001b[38;5;28;01mNone\u001b[39;00m\n",
      "File \u001b[1;32mG:\\Anaconda3\\Lib\\site-packages\\torch\\nn\\modules\\module.py:1532\u001b[0m, in \u001b[0;36mModule._wrapped_call_impl\u001b[1;34m(self, *args, **kwargs)\u001b[0m\n\u001b[0;32m   1530\u001b[0m     \u001b[38;5;28;01mreturn\u001b[39;00m \u001b[38;5;28mself\u001b[39m\u001b[38;5;241m.\u001b[39m_compiled_call_impl(\u001b[38;5;241m*\u001b[39margs, \u001b[38;5;241m*\u001b[39m\u001b[38;5;241m*\u001b[39mkwargs)  \u001b[38;5;66;03m# type: ignore[misc]\u001b[39;00m\n\u001b[0;32m   1531\u001b[0m \u001b[38;5;28;01melse\u001b[39;00m:\n\u001b[1;32m-> 1532\u001b[0m     \u001b[38;5;28;01mreturn\u001b[39;00m \u001b[38;5;28mself\u001b[39m\u001b[38;5;241m.\u001b[39m_call_impl(\u001b[38;5;241m*\u001b[39margs, \u001b[38;5;241m*\u001b[39m\u001b[38;5;241m*\u001b[39mkwargs)\n",
      "File \u001b[1;32mG:\\Anaconda3\\Lib\\site-packages\\torch\\nn\\modules\\module.py:1541\u001b[0m, in \u001b[0;36mModule._call_impl\u001b[1;34m(self, *args, **kwargs)\u001b[0m\n\u001b[0;32m   1536\u001b[0m \u001b[38;5;66;03m# If we don't have any hooks, we want to skip the rest of the logic in\u001b[39;00m\n\u001b[0;32m   1537\u001b[0m \u001b[38;5;66;03m# this function, and just call forward.\u001b[39;00m\n\u001b[0;32m   1538\u001b[0m \u001b[38;5;28;01mif\u001b[39;00m \u001b[38;5;129;01mnot\u001b[39;00m (\u001b[38;5;28mself\u001b[39m\u001b[38;5;241m.\u001b[39m_backward_hooks \u001b[38;5;129;01mor\u001b[39;00m \u001b[38;5;28mself\u001b[39m\u001b[38;5;241m.\u001b[39m_backward_pre_hooks \u001b[38;5;129;01mor\u001b[39;00m \u001b[38;5;28mself\u001b[39m\u001b[38;5;241m.\u001b[39m_forward_hooks \u001b[38;5;129;01mor\u001b[39;00m \u001b[38;5;28mself\u001b[39m\u001b[38;5;241m.\u001b[39m_forward_pre_hooks\n\u001b[0;32m   1539\u001b[0m         \u001b[38;5;129;01mor\u001b[39;00m _global_backward_pre_hooks \u001b[38;5;129;01mor\u001b[39;00m _global_backward_hooks\n\u001b[0;32m   1540\u001b[0m         \u001b[38;5;129;01mor\u001b[39;00m _global_forward_hooks \u001b[38;5;129;01mor\u001b[39;00m _global_forward_pre_hooks):\n\u001b[1;32m-> 1541\u001b[0m     \u001b[38;5;28;01mreturn\u001b[39;00m forward_call(\u001b[38;5;241m*\u001b[39margs, \u001b[38;5;241m*\u001b[39m\u001b[38;5;241m*\u001b[39mkwargs)\n\u001b[0;32m   1543\u001b[0m \u001b[38;5;28;01mtry\u001b[39;00m:\n\u001b[0;32m   1544\u001b[0m     result \u001b[38;5;241m=\u001b[39m \u001b[38;5;28;01mNone\u001b[39;00m\n",
      "File \u001b[1;32mG:\\Anaconda3\\Lib\\site-packages\\transformers\\models\\bert\\modeling_bert.py:607\u001b[0m, in \u001b[0;36mBertEncoder.forward\u001b[1;34m(self, hidden_states, attention_mask, head_mask, encoder_hidden_states, encoder_attention_mask, past_key_values, use_cache, output_attentions, output_hidden_states, return_dict)\u001b[0m\n\u001b[0;32m    596\u001b[0m     layer_outputs \u001b[38;5;241m=\u001b[39m \u001b[38;5;28mself\u001b[39m\u001b[38;5;241m.\u001b[39m_gradient_checkpointing_func(\n\u001b[0;32m    597\u001b[0m         layer_module\u001b[38;5;241m.\u001b[39m\u001b[38;5;21m__call__\u001b[39m,\n\u001b[0;32m    598\u001b[0m         hidden_states,\n\u001b[1;32m   (...)\u001b[0m\n\u001b[0;32m    604\u001b[0m         output_attentions,\n\u001b[0;32m    605\u001b[0m     )\n\u001b[0;32m    606\u001b[0m \u001b[38;5;28;01melse\u001b[39;00m:\n\u001b[1;32m--> 607\u001b[0m     layer_outputs \u001b[38;5;241m=\u001b[39m layer_module(\n\u001b[0;32m    608\u001b[0m         hidden_states,\n\u001b[0;32m    609\u001b[0m         attention_mask,\n\u001b[0;32m    610\u001b[0m         layer_head_mask,\n\u001b[0;32m    611\u001b[0m         encoder_hidden_states,\n\u001b[0;32m    612\u001b[0m         encoder_attention_mask,\n\u001b[0;32m    613\u001b[0m         past_key_value,\n\u001b[0;32m    614\u001b[0m         output_attentions,\n\u001b[0;32m    615\u001b[0m     )\n\u001b[0;32m    617\u001b[0m hidden_states \u001b[38;5;241m=\u001b[39m layer_outputs[\u001b[38;5;241m0\u001b[39m]\n\u001b[0;32m    618\u001b[0m \u001b[38;5;28;01mif\u001b[39;00m use_cache:\n",
      "File \u001b[1;32mG:\\Anaconda3\\Lib\\site-packages\\torch\\nn\\modules\\module.py:1532\u001b[0m, in \u001b[0;36mModule._wrapped_call_impl\u001b[1;34m(self, *args, **kwargs)\u001b[0m\n\u001b[0;32m   1530\u001b[0m     \u001b[38;5;28;01mreturn\u001b[39;00m \u001b[38;5;28mself\u001b[39m\u001b[38;5;241m.\u001b[39m_compiled_call_impl(\u001b[38;5;241m*\u001b[39margs, \u001b[38;5;241m*\u001b[39m\u001b[38;5;241m*\u001b[39mkwargs)  \u001b[38;5;66;03m# type: ignore[misc]\u001b[39;00m\n\u001b[0;32m   1531\u001b[0m \u001b[38;5;28;01melse\u001b[39;00m:\n\u001b[1;32m-> 1532\u001b[0m     \u001b[38;5;28;01mreturn\u001b[39;00m \u001b[38;5;28mself\u001b[39m\u001b[38;5;241m.\u001b[39m_call_impl(\u001b[38;5;241m*\u001b[39margs, \u001b[38;5;241m*\u001b[39m\u001b[38;5;241m*\u001b[39mkwargs)\n",
      "File \u001b[1;32mG:\\Anaconda3\\Lib\\site-packages\\torch\\nn\\modules\\module.py:1541\u001b[0m, in \u001b[0;36mModule._call_impl\u001b[1;34m(self, *args, **kwargs)\u001b[0m\n\u001b[0;32m   1536\u001b[0m \u001b[38;5;66;03m# If we don't have any hooks, we want to skip the rest of the logic in\u001b[39;00m\n\u001b[0;32m   1537\u001b[0m \u001b[38;5;66;03m# this function, and just call forward.\u001b[39;00m\n\u001b[0;32m   1538\u001b[0m \u001b[38;5;28;01mif\u001b[39;00m \u001b[38;5;129;01mnot\u001b[39;00m (\u001b[38;5;28mself\u001b[39m\u001b[38;5;241m.\u001b[39m_backward_hooks \u001b[38;5;129;01mor\u001b[39;00m \u001b[38;5;28mself\u001b[39m\u001b[38;5;241m.\u001b[39m_backward_pre_hooks \u001b[38;5;129;01mor\u001b[39;00m \u001b[38;5;28mself\u001b[39m\u001b[38;5;241m.\u001b[39m_forward_hooks \u001b[38;5;129;01mor\u001b[39;00m \u001b[38;5;28mself\u001b[39m\u001b[38;5;241m.\u001b[39m_forward_pre_hooks\n\u001b[0;32m   1539\u001b[0m         \u001b[38;5;129;01mor\u001b[39;00m _global_backward_pre_hooks \u001b[38;5;129;01mor\u001b[39;00m _global_backward_hooks\n\u001b[0;32m   1540\u001b[0m         \u001b[38;5;129;01mor\u001b[39;00m _global_forward_hooks \u001b[38;5;129;01mor\u001b[39;00m _global_forward_pre_hooks):\n\u001b[1;32m-> 1541\u001b[0m     \u001b[38;5;28;01mreturn\u001b[39;00m forward_call(\u001b[38;5;241m*\u001b[39margs, \u001b[38;5;241m*\u001b[39m\u001b[38;5;241m*\u001b[39mkwargs)\n\u001b[0;32m   1543\u001b[0m \u001b[38;5;28;01mtry\u001b[39;00m:\n\u001b[0;32m   1544\u001b[0m     result \u001b[38;5;241m=\u001b[39m \u001b[38;5;28;01mNone\u001b[39;00m\n",
      "File \u001b[1;32mG:\\Anaconda3\\Lib\\site-packages\\transformers\\models\\bert\\modeling_bert.py:539\u001b[0m, in \u001b[0;36mBertLayer.forward\u001b[1;34m(self, hidden_states, attention_mask, head_mask, encoder_hidden_states, encoder_attention_mask, past_key_value, output_attentions)\u001b[0m\n\u001b[0;32m    536\u001b[0m     cross_attn_present_key_value \u001b[38;5;241m=\u001b[39m cross_attention_outputs[\u001b[38;5;241m-\u001b[39m\u001b[38;5;241m1\u001b[39m]\n\u001b[0;32m    537\u001b[0m     present_key_value \u001b[38;5;241m=\u001b[39m present_key_value \u001b[38;5;241m+\u001b[39m cross_attn_present_key_value\n\u001b[1;32m--> 539\u001b[0m layer_output \u001b[38;5;241m=\u001b[39m apply_chunking_to_forward(\n\u001b[0;32m    540\u001b[0m     \u001b[38;5;28mself\u001b[39m\u001b[38;5;241m.\u001b[39mfeed_forward_chunk, \u001b[38;5;28mself\u001b[39m\u001b[38;5;241m.\u001b[39mchunk_size_feed_forward, \u001b[38;5;28mself\u001b[39m\u001b[38;5;241m.\u001b[39mseq_len_dim, attention_output\n\u001b[0;32m    541\u001b[0m )\n\u001b[0;32m    542\u001b[0m outputs \u001b[38;5;241m=\u001b[39m (layer_output,) \u001b[38;5;241m+\u001b[39m outputs\n\u001b[0;32m    544\u001b[0m \u001b[38;5;66;03m# if decoder, return the attn key/values as the last output\u001b[39;00m\n",
      "File \u001b[1;32mG:\\Anaconda3\\Lib\\site-packages\\transformers\\pytorch_utils.py:237\u001b[0m, in \u001b[0;36mapply_chunking_to_forward\u001b[1;34m(forward_fn, chunk_size, chunk_dim, *input_tensors)\u001b[0m\n\u001b[0;32m    234\u001b[0m     \u001b[38;5;66;03m# concatenate output at same dimension\u001b[39;00m\n\u001b[0;32m    235\u001b[0m     \u001b[38;5;28;01mreturn\u001b[39;00m torch\u001b[38;5;241m.\u001b[39mcat(output_chunks, dim\u001b[38;5;241m=\u001b[39mchunk_dim)\n\u001b[1;32m--> 237\u001b[0m \u001b[38;5;28;01mreturn\u001b[39;00m forward_fn(\u001b[38;5;241m*\u001b[39minput_tensors)\n",
      "File \u001b[1;32mG:\\Anaconda3\\Lib\\site-packages\\transformers\\models\\bert\\modeling_bert.py:551\u001b[0m, in \u001b[0;36mBertLayer.feed_forward_chunk\u001b[1;34m(self, attention_output)\u001b[0m\n\u001b[0;32m    550\u001b[0m \u001b[38;5;28;01mdef\u001b[39;00m \u001b[38;5;21mfeed_forward_chunk\u001b[39m(\u001b[38;5;28mself\u001b[39m, attention_output):\n\u001b[1;32m--> 551\u001b[0m     intermediate_output \u001b[38;5;241m=\u001b[39m \u001b[38;5;28mself\u001b[39m\u001b[38;5;241m.\u001b[39mintermediate(attention_output)\n\u001b[0;32m    552\u001b[0m     layer_output \u001b[38;5;241m=\u001b[39m \u001b[38;5;28mself\u001b[39m\u001b[38;5;241m.\u001b[39moutput(intermediate_output, attention_output)\n\u001b[0;32m    553\u001b[0m     \u001b[38;5;28;01mreturn\u001b[39;00m layer_output\n",
      "File \u001b[1;32mG:\\Anaconda3\\Lib\\site-packages\\torch\\nn\\modules\\module.py:1532\u001b[0m, in \u001b[0;36mModule._wrapped_call_impl\u001b[1;34m(self, *args, **kwargs)\u001b[0m\n\u001b[0;32m   1530\u001b[0m     \u001b[38;5;28;01mreturn\u001b[39;00m \u001b[38;5;28mself\u001b[39m\u001b[38;5;241m.\u001b[39m_compiled_call_impl(\u001b[38;5;241m*\u001b[39margs, \u001b[38;5;241m*\u001b[39m\u001b[38;5;241m*\u001b[39mkwargs)  \u001b[38;5;66;03m# type: ignore[misc]\u001b[39;00m\n\u001b[0;32m   1531\u001b[0m \u001b[38;5;28;01melse\u001b[39;00m:\n\u001b[1;32m-> 1532\u001b[0m     \u001b[38;5;28;01mreturn\u001b[39;00m \u001b[38;5;28mself\u001b[39m\u001b[38;5;241m.\u001b[39m_call_impl(\u001b[38;5;241m*\u001b[39margs, \u001b[38;5;241m*\u001b[39m\u001b[38;5;241m*\u001b[39mkwargs)\n",
      "File \u001b[1;32mG:\\Anaconda3\\Lib\\site-packages\\torch\\nn\\modules\\module.py:1541\u001b[0m, in \u001b[0;36mModule._call_impl\u001b[1;34m(self, *args, **kwargs)\u001b[0m\n\u001b[0;32m   1536\u001b[0m \u001b[38;5;66;03m# If we don't have any hooks, we want to skip the rest of the logic in\u001b[39;00m\n\u001b[0;32m   1537\u001b[0m \u001b[38;5;66;03m# this function, and just call forward.\u001b[39;00m\n\u001b[0;32m   1538\u001b[0m \u001b[38;5;28;01mif\u001b[39;00m \u001b[38;5;129;01mnot\u001b[39;00m (\u001b[38;5;28mself\u001b[39m\u001b[38;5;241m.\u001b[39m_backward_hooks \u001b[38;5;129;01mor\u001b[39;00m \u001b[38;5;28mself\u001b[39m\u001b[38;5;241m.\u001b[39m_backward_pre_hooks \u001b[38;5;129;01mor\u001b[39;00m \u001b[38;5;28mself\u001b[39m\u001b[38;5;241m.\u001b[39m_forward_hooks \u001b[38;5;129;01mor\u001b[39;00m \u001b[38;5;28mself\u001b[39m\u001b[38;5;241m.\u001b[39m_forward_pre_hooks\n\u001b[0;32m   1539\u001b[0m         \u001b[38;5;129;01mor\u001b[39;00m _global_backward_pre_hooks \u001b[38;5;129;01mor\u001b[39;00m _global_backward_hooks\n\u001b[0;32m   1540\u001b[0m         \u001b[38;5;129;01mor\u001b[39;00m _global_forward_hooks \u001b[38;5;129;01mor\u001b[39;00m _global_forward_pre_hooks):\n\u001b[1;32m-> 1541\u001b[0m     \u001b[38;5;28;01mreturn\u001b[39;00m forward_call(\u001b[38;5;241m*\u001b[39margs, \u001b[38;5;241m*\u001b[39m\u001b[38;5;241m*\u001b[39mkwargs)\n\u001b[0;32m   1543\u001b[0m \u001b[38;5;28;01mtry\u001b[39;00m:\n\u001b[0;32m   1544\u001b[0m     result \u001b[38;5;241m=\u001b[39m \u001b[38;5;28;01mNone\u001b[39;00m\n",
      "File \u001b[1;32mG:\\Anaconda3\\Lib\\site-packages\\transformers\\models\\bert\\modeling_bert.py:451\u001b[0m, in \u001b[0;36mBertIntermediate.forward\u001b[1;34m(self, hidden_states)\u001b[0m\n\u001b[0;32m    450\u001b[0m \u001b[38;5;28;01mdef\u001b[39;00m \u001b[38;5;21mforward\u001b[39m(\u001b[38;5;28mself\u001b[39m, hidden_states: torch\u001b[38;5;241m.\u001b[39mTensor) \u001b[38;5;241m-\u001b[39m\u001b[38;5;241m>\u001b[39m torch\u001b[38;5;241m.\u001b[39mTensor:\n\u001b[1;32m--> 451\u001b[0m     hidden_states \u001b[38;5;241m=\u001b[39m \u001b[38;5;28mself\u001b[39m\u001b[38;5;241m.\u001b[39mdense(hidden_states)\n\u001b[0;32m    452\u001b[0m     hidden_states \u001b[38;5;241m=\u001b[39m \u001b[38;5;28mself\u001b[39m\u001b[38;5;241m.\u001b[39mintermediate_act_fn(hidden_states)\n\u001b[0;32m    453\u001b[0m     \u001b[38;5;28;01mreturn\u001b[39;00m hidden_states\n",
      "File \u001b[1;32mG:\\Anaconda3\\Lib\\site-packages\\torch\\nn\\modules\\module.py:1532\u001b[0m, in \u001b[0;36mModule._wrapped_call_impl\u001b[1;34m(self, *args, **kwargs)\u001b[0m\n\u001b[0;32m   1530\u001b[0m     \u001b[38;5;28;01mreturn\u001b[39;00m \u001b[38;5;28mself\u001b[39m\u001b[38;5;241m.\u001b[39m_compiled_call_impl(\u001b[38;5;241m*\u001b[39margs, \u001b[38;5;241m*\u001b[39m\u001b[38;5;241m*\u001b[39mkwargs)  \u001b[38;5;66;03m# type: ignore[misc]\u001b[39;00m\n\u001b[0;32m   1531\u001b[0m \u001b[38;5;28;01melse\u001b[39;00m:\n\u001b[1;32m-> 1532\u001b[0m     \u001b[38;5;28;01mreturn\u001b[39;00m \u001b[38;5;28mself\u001b[39m\u001b[38;5;241m.\u001b[39m_call_impl(\u001b[38;5;241m*\u001b[39margs, \u001b[38;5;241m*\u001b[39m\u001b[38;5;241m*\u001b[39mkwargs)\n",
      "File \u001b[1;32mG:\\Anaconda3\\Lib\\site-packages\\torch\\nn\\modules\\module.py:1541\u001b[0m, in \u001b[0;36mModule._call_impl\u001b[1;34m(self, *args, **kwargs)\u001b[0m\n\u001b[0;32m   1536\u001b[0m \u001b[38;5;66;03m# If we don't have any hooks, we want to skip the rest of the logic in\u001b[39;00m\n\u001b[0;32m   1537\u001b[0m \u001b[38;5;66;03m# this function, and just call forward.\u001b[39;00m\n\u001b[0;32m   1538\u001b[0m \u001b[38;5;28;01mif\u001b[39;00m \u001b[38;5;129;01mnot\u001b[39;00m (\u001b[38;5;28mself\u001b[39m\u001b[38;5;241m.\u001b[39m_backward_hooks \u001b[38;5;129;01mor\u001b[39;00m \u001b[38;5;28mself\u001b[39m\u001b[38;5;241m.\u001b[39m_backward_pre_hooks \u001b[38;5;129;01mor\u001b[39;00m \u001b[38;5;28mself\u001b[39m\u001b[38;5;241m.\u001b[39m_forward_hooks \u001b[38;5;129;01mor\u001b[39;00m \u001b[38;5;28mself\u001b[39m\u001b[38;5;241m.\u001b[39m_forward_pre_hooks\n\u001b[0;32m   1539\u001b[0m         \u001b[38;5;129;01mor\u001b[39;00m _global_backward_pre_hooks \u001b[38;5;129;01mor\u001b[39;00m _global_backward_hooks\n\u001b[0;32m   1540\u001b[0m         \u001b[38;5;129;01mor\u001b[39;00m _global_forward_hooks \u001b[38;5;129;01mor\u001b[39;00m _global_forward_pre_hooks):\n\u001b[1;32m-> 1541\u001b[0m     \u001b[38;5;28;01mreturn\u001b[39;00m forward_call(\u001b[38;5;241m*\u001b[39margs, \u001b[38;5;241m*\u001b[39m\u001b[38;5;241m*\u001b[39mkwargs)\n\u001b[0;32m   1543\u001b[0m \u001b[38;5;28;01mtry\u001b[39;00m:\n\u001b[0;32m   1544\u001b[0m     result \u001b[38;5;241m=\u001b[39m \u001b[38;5;28;01mNone\u001b[39;00m\n",
      "File \u001b[1;32mG:\\Anaconda3\\Lib\\site-packages\\torch\\nn\\modules\\linear.py:116\u001b[0m, in \u001b[0;36mLinear.forward\u001b[1;34m(self, input)\u001b[0m\n\u001b[0;32m    115\u001b[0m \u001b[38;5;28;01mdef\u001b[39;00m \u001b[38;5;21mforward\u001b[39m(\u001b[38;5;28mself\u001b[39m, \u001b[38;5;28minput\u001b[39m: Tensor) \u001b[38;5;241m-\u001b[39m\u001b[38;5;241m>\u001b[39m Tensor:\n\u001b[1;32m--> 116\u001b[0m     \u001b[38;5;28;01mreturn\u001b[39;00m F\u001b[38;5;241m.\u001b[39mlinear(\u001b[38;5;28minput\u001b[39m, \u001b[38;5;28mself\u001b[39m\u001b[38;5;241m.\u001b[39mweight, \u001b[38;5;28mself\u001b[39m\u001b[38;5;241m.\u001b[39mbias)\n",
      "\u001b[1;31mKeyboardInterrupt\u001b[0m: "
     ]
    }
   ],
   "source": [
    "# define instructions for feeding inputs to model\n",
    "input_dataloader = DataLoader(inputs, shuffle=True, batch_size=16) # feed 16 records at a time to the model\n",
    " \n",
    "# define loss metric to optimize for\n",
    "loss = losses.CosineSimilarityLoss(tuned_model)\n",
    " \n",
    "# tune the model on the input data\n",
    "tuned_model.fit(\n",
    "  train_objectives=[(input_dataloader, loss)],\n",
    "  epochs=1, # just make 1 pass over data\n",
    "  warmup_steps=100 # controls how many steps over which learning rate increases to max before descending back to zero\n",
    "  )"
   ]
  },
  {
   "cell_type": "code",
   "execution_count": null,
   "id": "6859b253-e93e-4872-9c76-28a11b3517e8",
   "metadata": {},
   "outputs": [],
   "source": []
  }
 ],
 "metadata": {
  "kernelspec": {
   "display_name": "Python 3 (ipykernel)",
   "language": "python",
   "name": "python3"
  },
  "language_info": {
   "codemirror_mode": {
    "name": "ipython",
    "version": 3
   },
   "file_extension": ".py",
   "mimetype": "text/x-python",
   "name": "python",
   "nbconvert_exporter": "python",
   "pygments_lexer": "ipython3",
   "version": "3.11.7"
  }
 },
 "nbformat": 4,
 "nbformat_minor": 5
}
